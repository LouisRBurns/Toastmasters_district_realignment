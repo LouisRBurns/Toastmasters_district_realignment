{
 "cells": [
  {
   "cell_type": "markdown",
   "metadata": {},
   "source": [
    "# Note: This was the original attempt using DEAP\n",
    "\n",
    "## Realigning a Toastmasters District Using a Genetic Algorithm"
   ]
  },
  {
   "cell_type": "markdown",
   "metadata": {},
   "source": [
    "This notebook takes cleaned district data and uses the DEAP library to realign the district into areas.\n",
    "\n",
    "The fitness function optimizes the variation (standard deviation) of the club quality scores, minimizes the normalized average distance between the clubs, and optimizes the number of clubs which must be 4-6 with an ideal of 5.\n",
    "\n",
    "The club quality score is equal parts:\n",
    "1. A normalized absolute variation from 25 members - minimized,\n",
    "2. A normalized awards per member (participation) - maximized, and\n",
    "3. A normalized absolute variation of new members from 20% (retention) - minimized."
   ]
  },
  {
   "cell_type": "code",
   "execution_count": 1,
   "metadata": {},
   "outputs": [],
   "source": [
    "%matplotlib inline\n",
    "import numpy as np\n",
    "import pandas as pd\n",
    "import matplotlib.pyplot as plt\n",
    "import seaborn as sns\n",
    "import geopandas as gpd\n",
    "import contextily as ctx\n",
    "from itertools import combinations\n",
    "import random\n",
    "from deap import creator, base, tools, algorithms"
   ]
  },
  {
   "cell_type": "markdown",
   "metadata": {},
   "source": [
    "# Prepare Data"
   ]
  },
  {
   "cell_type": "code",
   "execution_count": 2,
   "metadata": {},
   "outputs": [
    {
     "data": {
      "text/html": [
       "<div>\n",
       "<style scoped>\n",
       "    .dataframe tbody tr th:only-of-type {\n",
       "        vertical-align: middle;\n",
       "    }\n",
       "\n",
       "    .dataframe tbody tr th {\n",
       "        vertical-align: top;\n",
       "    }\n",
       "\n",
       "    .dataframe thead th {\n",
       "        text-align: right;\n",
       "    }\n",
       "</style>\n",
       "<table border=\"1\" class=\"dataframe\">\n",
       "  <thead>\n",
       "    <tr style=\"text-align: right;\">\n",
       "      <th></th>\n",
       "      <th>club_no</th>\n",
       "      <th>n_quality</th>\n",
       "    </tr>\n",
       "  </thead>\n",
       "  <tbody>\n",
       "    <tr>\n",
       "      <th>0</th>\n",
       "      <td>5509</td>\n",
       "      <td>0.677709</td>\n",
       "    </tr>\n",
       "    <tr>\n",
       "      <th>1</th>\n",
       "      <td>7036</td>\n",
       "      <td>0.695792</td>\n",
       "    </tr>\n",
       "    <tr>\n",
       "      <th>2</th>\n",
       "      <td>9682</td>\n",
       "      <td>0.614715</td>\n",
       "    </tr>\n",
       "    <tr>\n",
       "      <th>3</th>\n",
       "      <td>584009</td>\n",
       "      <td>0.475900</td>\n",
       "    </tr>\n",
       "    <tr>\n",
       "      <th>4</th>\n",
       "      <td>1100434</td>\n",
       "      <td>0.768516</td>\n",
       "    </tr>\n",
       "  </tbody>\n",
       "</table>\n",
       "</div>"
      ],
      "text/plain": [
       "   club_no  n_quality\n",
       "0     5509   0.677709\n",
       "1     7036   0.695792\n",
       "2     9682   0.614715\n",
       "3   584009   0.475900\n",
       "4  1100434   0.768516"
      ]
     },
     "execution_count": 2,
     "metadata": {},
     "output_type": "execute_result"
    }
   ],
   "source": [
    "# Import data - only quality score needed for algorithm\n",
    "clubs = pd.read_csv('clubs_to_realign.csv')\n",
    "clubs.head()"
   ]
  },
  {
   "cell_type": "markdown",
   "metadata": {},
   "source": [
    "We'll be using the distance matrix we created earlier. Let's import it and set it up."
   ]
  },
  {
   "cell_type": "code",
   "execution_count": 3,
   "metadata": {},
   "outputs": [
    {
     "data": {
      "text/html": [
       "<div>\n",
       "<style scoped>\n",
       "    .dataframe tbody tr th:only-of-type {\n",
       "        vertical-align: middle;\n",
       "    }\n",
       "\n",
       "    .dataframe tbody tr th {\n",
       "        vertical-align: top;\n",
       "    }\n",
       "\n",
       "    .dataframe thead th {\n",
       "        text-align: right;\n",
       "    }\n",
       "</style>\n",
       "<table border=\"1\" class=\"dataframe\">\n",
       "  <thead>\n",
       "    <tr style=\"text-align: right;\">\n",
       "      <th></th>\n",
       "      <th>5509</th>\n",
       "      <th>7036</th>\n",
       "      <th>9682</th>\n",
       "      <th>584009</th>\n",
       "      <th>1100434</th>\n",
       "      <th>718</th>\n",
       "      <th>4819</th>\n",
       "      <th>9790</th>\n",
       "      <th>5069647</th>\n",
       "      <th>7575630</th>\n",
       "      <th>...</th>\n",
       "      <th>1783</th>\n",
       "      <th>596735</th>\n",
       "      <th>4700632</th>\n",
       "      <th>5258000</th>\n",
       "      <th>2690</th>\n",
       "      <th>8569</th>\n",
       "      <th>3929213</th>\n",
       "      <th>4822437</th>\n",
       "      <th>5569</th>\n",
       "      <th>1565753</th>\n",
       "    </tr>\n",
       "    <tr>\n",
       "      <th>club_no</th>\n",
       "      <th></th>\n",
       "      <th></th>\n",
       "      <th></th>\n",
       "      <th></th>\n",
       "      <th></th>\n",
       "      <th></th>\n",
       "      <th></th>\n",
       "      <th></th>\n",
       "      <th></th>\n",
       "      <th></th>\n",
       "      <th></th>\n",
       "      <th></th>\n",
       "      <th></th>\n",
       "      <th></th>\n",
       "      <th></th>\n",
       "      <th></th>\n",
       "      <th></th>\n",
       "      <th></th>\n",
       "      <th></th>\n",
       "      <th></th>\n",
       "      <th></th>\n",
       "    </tr>\n",
       "  </thead>\n",
       "  <tbody>\n",
       "    <tr>\n",
       "      <th>5509</th>\n",
       "      <td>0.000000</td>\n",
       "      <td>0.000000</td>\n",
       "      <td>0.309451</td>\n",
       "      <td>0.315310</td>\n",
       "      <td>0.000000</td>\n",
       "      <td>0.309451</td>\n",
       "      <td>0.338685</td>\n",
       "      <td>0.297754</td>\n",
       "      <td>0.347098</td>\n",
       "      <td>0.311623</td>\n",
       "      <td>...</td>\n",
       "      <td>0.752496</td>\n",
       "      <td>0.737553</td>\n",
       "      <td>0.748308</td>\n",
       "      <td>0.748308</td>\n",
       "      <td>0.748079</td>\n",
       "      <td>0.748308</td>\n",
       "      <td>0.748308</td>\n",
       "      <td>0.749572</td>\n",
       "      <td>0.748308</td>\n",
       "      <td>0.748308</td>\n",
       "    </tr>\n",
       "    <tr>\n",
       "      <th>7036</th>\n",
       "      <td>0.000000</td>\n",
       "      <td>0.000000</td>\n",
       "      <td>0.309451</td>\n",
       "      <td>0.315310</td>\n",
       "      <td>0.000000</td>\n",
       "      <td>0.309451</td>\n",
       "      <td>0.338685</td>\n",
       "      <td>0.297754</td>\n",
       "      <td>0.347098</td>\n",
       "      <td>0.311623</td>\n",
       "      <td>...</td>\n",
       "      <td>0.752496</td>\n",
       "      <td>0.737553</td>\n",
       "      <td>0.748308</td>\n",
       "      <td>0.748308</td>\n",
       "      <td>0.748079</td>\n",
       "      <td>0.748308</td>\n",
       "      <td>0.748308</td>\n",
       "      <td>0.749572</td>\n",
       "      <td>0.748308</td>\n",
       "      <td>0.748308</td>\n",
       "    </tr>\n",
       "    <tr>\n",
       "      <th>9682</th>\n",
       "      <td>0.360002</td>\n",
       "      <td>0.360002</td>\n",
       "      <td>0.000000</td>\n",
       "      <td>0.033326</td>\n",
       "      <td>0.360002</td>\n",
       "      <td>0.000000</td>\n",
       "      <td>0.035332</td>\n",
       "      <td>0.024728</td>\n",
       "      <td>0.100703</td>\n",
       "      <td>0.011137</td>\n",
       "      <td>...</td>\n",
       "      <td>0.896155</td>\n",
       "      <td>0.892741</td>\n",
       "      <td>0.894353</td>\n",
       "      <td>0.894353</td>\n",
       "      <td>0.893528</td>\n",
       "      <td>0.894353</td>\n",
       "      <td>0.894353</td>\n",
       "      <td>0.895944</td>\n",
       "      <td>0.894353</td>\n",
       "      <td>0.894353</td>\n",
       "    </tr>\n",
       "    <tr>\n",
       "      <th>584009</th>\n",
       "      <td>0.378986</td>\n",
       "      <td>0.378986</td>\n",
       "      <td>0.034432</td>\n",
       "      <td>0.000000</td>\n",
       "      <td>0.378986</td>\n",
       "      <td>0.034432</td>\n",
       "      <td>0.047424</td>\n",
       "      <td>0.024879</td>\n",
       "      <td>0.070442</td>\n",
       "      <td>0.045275</td>\n",
       "      <td>...</td>\n",
       "      <td>0.927359</td>\n",
       "      <td>0.924798</td>\n",
       "      <td>0.926084</td>\n",
       "      <td>0.926084</td>\n",
       "      <td>0.925535</td>\n",
       "      <td>0.926084</td>\n",
       "      <td>0.926084</td>\n",
       "      <td>0.927159</td>\n",
       "      <td>0.926084</td>\n",
       "      <td>0.926084</td>\n",
       "    </tr>\n",
       "    <tr>\n",
       "      <th>1100434</th>\n",
       "      <td>0.000000</td>\n",
       "      <td>0.000000</td>\n",
       "      <td>0.309451</td>\n",
       "      <td>0.315310</td>\n",
       "      <td>0.000000</td>\n",
       "      <td>0.309451</td>\n",
       "      <td>0.338685</td>\n",
       "      <td>0.297754</td>\n",
       "      <td>0.347098</td>\n",
       "      <td>0.311623</td>\n",
       "      <td>...</td>\n",
       "      <td>0.752496</td>\n",
       "      <td>0.737553</td>\n",
       "      <td>0.748308</td>\n",
       "      <td>0.748308</td>\n",
       "      <td>0.748079</td>\n",
       "      <td>0.748308</td>\n",
       "      <td>0.748308</td>\n",
       "      <td>0.749572</td>\n",
       "      <td>0.748308</td>\n",
       "      <td>0.748308</td>\n",
       "    </tr>\n",
       "  </tbody>\n",
       "</table>\n",
       "<p>5 rows × 168 columns</p>\n",
       "</div>"
      ],
      "text/plain": [
       "          5509      7036      9682      584009    1100434   718       4819     \\\n",
       "club_no                                                                         \n",
       "5509     0.000000  0.000000  0.309451  0.315310  0.000000  0.309451  0.338685   \n",
       "7036     0.000000  0.000000  0.309451  0.315310  0.000000  0.309451  0.338685   \n",
       "9682     0.360002  0.360002  0.000000  0.033326  0.360002  0.000000  0.035332   \n",
       "584009   0.378986  0.378986  0.034432  0.000000  0.378986  0.034432  0.047424   \n",
       "1100434  0.000000  0.000000  0.309451  0.315310  0.000000  0.309451  0.338685   \n",
       "\n",
       "          9790      5069647   7575630  ...   1783      596735    4700632  \\\n",
       "club_no                                ...                                 \n",
       "5509     0.297754  0.347098  0.311623  ...  0.752496  0.737553  0.748308   \n",
       "7036     0.297754  0.347098  0.311623  ...  0.752496  0.737553  0.748308   \n",
       "9682     0.024728  0.100703  0.011137  ...  0.896155  0.892741  0.894353   \n",
       "584009   0.024879  0.070442  0.045275  ...  0.927359  0.924798  0.926084   \n",
       "1100434  0.297754  0.347098  0.311623  ...  0.752496  0.737553  0.748308   \n",
       "\n",
       "          5258000   2690      8569      3929213   4822437   5569      1565753  \n",
       "club_no                                                                        \n",
       "5509     0.748308  0.748079  0.748308  0.748308  0.749572  0.748308  0.748308  \n",
       "7036     0.748308  0.748079  0.748308  0.748308  0.749572  0.748308  0.748308  \n",
       "9682     0.894353  0.893528  0.894353  0.894353  0.895944  0.894353  0.894353  \n",
       "584009   0.926084  0.925535  0.926084  0.926084  0.927159  0.926084  0.926084  \n",
       "1100434  0.748308  0.748079  0.748308  0.748308  0.749572  0.748308  0.748308  \n",
       "\n",
       "[5 rows x 168 columns]"
      ]
     },
     "execution_count": 3,
     "metadata": {},
     "output_type": "execute_result"
    }
   ],
   "source": [
    "dist = pd.read_csv('club_distance_matrix.csv')\n",
    "dist.set_index('club_no', inplace=True)\n",
    "# Make sure the columns are integers too\n",
    "dist.columns = dist.columns.astype(int)\n",
    "dist.head()"
   ]
  },
  {
   "cell_type": "markdown",
   "metadata": {},
   "source": [
    "Since we're optimizing standard deviation, let's consider what an optimum would be. Ideally, there would be a good variety of strong and weak clubs, not all strong or all weak. All of one or the other would be a standard deviation of 0. Half strong and half weak would be 0.5 (from a range of 0 to 1). The ideal is something in between."
   ]
  },
  {
   "cell_type": "code",
   "execution_count": 4,
   "metadata": {},
   "outputs": [
    {
     "name": "stdout",
     "output_type": "stream",
     "text": [
      "An ideal distribution: 0.354\n"
     ]
    }
   ],
   "source": [
    "# This is a hypothetical area as a list of club scores\n",
    "# ranging from our normalized 0 to 1 scale. \n",
    "# This would be a well-balanced area.\n",
    "ideal = [0.0, 0.25, 0.5, 0.75, 1.0]\n",
    "# Calculate ideal standard deviation.\n",
    "std = round(np.std(ideal), 3)\n",
    "print(f'An ideal distribution: {std}')"
   ]
  },
  {
   "cell_type": "markdown",
   "metadata": {},
   "source": [
    "### Functions to Group and Format Areas"
   ]
  },
  {
   "cell_type": "markdown",
   "metadata": {},
   "source": [
    "DEAP can only register function names so all additional formatting needs to be done before that."
   ]
  },
  {
   "cell_type": "markdown",
   "metadata": {},
   "source": [
    "Since we want all areas to be 5 clubs, if we end up with less than 4 we need to make the last 2-4 areas have 4 clubs instead. Here we make a district encoded as a list of areas with lists of clubs. Input is a dataframe of clubs. Set clubs to default so that we don't need to add the parameter when registering it in the DEAP toolbox. We will also use the grouping function during crossover so we need a randomizing parameter to be able to turn it off at that time. "
   ]
  },
  {
   "cell_type": "code",
   "execution_count": 43,
   "metadata": {},
   "outputs": [],
   "source": [
    "def group_areas(clubs=clubs, randomize=False):\n",
    "    if randomize == True:\n",
    "        random.shuffle(clubs)\n",
    "    \n",
    "    # Check how many clubs would be left in last area\n",
    "    if len(clubs) % 5 in [0, 4]:\n",
    "        for i in range(0, len(clubs), 5): \n",
    "            yield clubs[i:i + 5]\n",
    "        \n",
    "    elif len(clubs) % 5 == 3:\n",
    "        for i in range(0, len(clubs)-8, 5):\n",
    "            yield clubs[i:i + 5]\n",
    "        for i in range(len(clubs)-8, len(clubs), 4):\n",
    "            yield clubs[i:i + 4]\n",
    "        \n",
    "    elif len(clubs) % 5 == 2:\n",
    "        for i in range(0, len(clubs)-12, 5):\n",
    "            yield clubs[i:i + 5]\n",
    "        for i in range(len(clubs)-12, len(clubs), 4):\n",
    "            yield clubs[i:i + 4]\n",
    "                \n",
    "    else: # Remaining cases have 1 left over club\n",
    "        for i in range(0, len(clubs)-16, 5):\n",
    "            yield clubs[i:i + 5]\n",
    "        for i in range(len(clubs)-16, len(clubs), 4):\n",
    "            yield clubs[i:i + 4]\n",
    "\n",
    "def areas_list(clubs=clubs):\n",
    "    return list(group_areas(list(clubs['club_no']), randomize=True))"
   ]
  },
  {
   "cell_type": "markdown",
   "metadata": {},
   "source": [
    "Test our areas_list function on a list of our clubs. Notice the last two areas have 4 clubs each."
   ]
  },
  {
   "cell_type": "code",
   "execution_count": 44,
   "metadata": {},
   "outputs": [
    {
     "data": {
      "text/plain": [
       "[[6970706, 7384295, 1526701, 6632930, 7575630],\n",
       " [6990556, 7036, 6590, 997315, 6861322],\n",
       " [1408278, 9354, 4822437, 1171779, 4700632],\n",
       " [4793192, 8412, 4858, 4750107, 5859633],\n",
       " [3401898, 9790, 7059, 9019, 7031829],\n",
       " [1171849, 1412885, 4182, 1176575, 1036600],\n",
       " [8552, 7274, 7479409, 4107, 614471],\n",
       " [6754191, 3812934, 2690, 4110, 7022029],\n",
       " [4786679, 584516, 8952, 6887806, 1581643],\n",
       " [9214, 1995527, 1100434, 4095, 4015],\n",
       " [9598, 437, 7532701, 7533, 3356972],\n",
       " [7479372, 5869106, 4801055, 1463775, 7402713],\n",
       " [5736, 1588444, 3074518, 5042512, 630505],\n",
       " [3549, 1582927, 4533, 8941, 1158551],\n",
       " [2556863, 8631, 3408653, 4446, 607240],\n",
       " [6820584, 2923054, 2364, 1291183, 3431353],\n",
       " [992874, 6613239, 7306126, 1331602, 6661],\n",
       " [2912, 5674, 6975086, 8041, 9469],\n",
       " [1595518, 3318, 2808, 8569, 6786],\n",
       " [4108, 3859, 6644914, 4819, 3372438],\n",
       " [5981, 695532, 7452, 6380, 1176566],\n",
       " [9872, 1190, 3063370, 4718634, 3240871],\n",
       " [2038660, 5258000, 2189079, 7881, 6523],\n",
       " [967, 1165752, 6715494, 6891000, 5918],\n",
       " [5509, 584009, 5055, 713, 4154],\n",
       " [8363, 3395235, 6142, 9682, 1565753],\n",
       " [5569, 5928, 2146, 8983, 845547],\n",
       " [583467, 7587, 7463287, 5545568, 3761504],\n",
       " [7327347, 718, 1244830, 4157985, 5553533],\n",
       " [4918271, 4721, 6071, 1535564, 953233],\n",
       " [730163, 7034388, 8169, 596735, 942489],\n",
       " [1047602, 7554675, 8853, 6654663, 1207],\n",
       " [5112712, 2876291, 9161, 5069647],\n",
       " [1783, 7817, 2427, 3929213]]"
      ]
     },
     "execution_count": 44,
     "metadata": {},
     "output_type": "execute_result"
    }
   ],
   "source": [
    "district1 = areas_list(clubs)\n",
    "district1"
   ]
  },
  {
   "cell_type": "markdown",
   "metadata": {},
   "source": [
    "### Build evaluation function\n",
    "- We will make sure most areas have 5 clubs through the `areas_list` function. \n",
    "- Our next criterion is minimizing the distance from the ideal quality distribution.\n",
    "- The final criterion is minimizing the distance between clubs.\n",
    "- Write functions for both calculations and call them both in the evaluation function.\n",
    "- Keep the two functions separate in case we decide to change the weights later.\n",
    "- Where parameters are constant (i.e. clubs or dist), set them as the default to work with the DEAP library better. "
   ]
  },
  {
   "cell_type": "code",
   "execution_count": 45,
   "metadata": {},
   "outputs": [],
   "source": [
    "# Function to calculate quality distribution\n",
    "# Specifically, we're going to minimize the average distance \n",
    "# of the standard deviation from 0.35 which is an approximately \n",
    "# ideal quality distribution of 5 clubs\n",
    "\n",
    "# This function returns a list of quality scores from a list of club numbers\n",
    "def area_qualities(area, clubs=clubs):\n",
    "    return [clubs[clubs['club_no'] == club]['n_quality'].iloc[0] for club in area]\n",
    "\n",
    "# This function returns the average distance from the ideal distribution for the district\n",
    "def quality_std(district, clubs=clubs):\n",
    "    return sum([abs(np.std(area_qualities(area, clubs))-0.35) for area in district]) / len(district)"
   ]
  },
  {
   "cell_type": "code",
   "execution_count": 46,
   "metadata": {},
   "outputs": [],
   "source": [
    "# Function to calculate average distance between all clubs in each area for the district\n",
    "\n",
    "# This function calculuates average distance in one area.\n",
    "def area_dist(clubs, dist=dist):\n",
    "    return sum([dist.loc[pair] for pair in list(combinations(clubs, 2))]) / \\\n",
    "            len(list(combinations(clubs, 2)))\n",
    "\n",
    "# This function calculates average distance of all areas\n",
    "def district_dist(district, dist=dist):\n",
    "    return sum([area_dist(area, dist) for area in district]) / len(district)"
   ]
  },
  {
   "cell_type": "code",
   "execution_count": 47,
   "metadata": {},
   "outputs": [],
   "source": [
    "# Evaluation Function\n",
    "# This returns a tuple representing the quality distribution and\n",
    "# average physical distance between clubs\n",
    "def evaluate_district(district, clubs=clubs, dist=dist):\n",
    "    return quality_std(district, clubs), district_dist(district, dist)"
   ]
  },
  {
   "cell_type": "markdown",
   "metadata": {},
   "source": [
    "### Build Mating Function\n",
    "DEAP only has crossover functions that accept strings, not groups. \n",
    "- Here we'll implement a variation of the one-point crossover. \n",
    "- Offspring 1 carries forward the first cut of parent 1.\n",
    "- Add any remaining non-duplicating complete areas from parent 2. \n",
    "- Fill in the remaining areas with missing clubs sequenced from parent 1.\n",
    "- Repeat for offspring 2."
   ]
  },
  {
   "cell_type": "markdown",
   "metadata": {},
   "source": [
    "Create a helper flattening function."
   ]
  },
  {
   "cell_type": "code",
   "execution_count": 48,
   "metadata": {},
   "outputs": [],
   "source": [
    "def flatten(district):\n",
    "    return [club for area in district for club in area]\n",
    "\n",
    "# Regroup: list(group_areas(clubs_list))"
   ]
  },
  {
   "cell_type": "code",
   "execution_count": 49,
   "metadata": {},
   "outputs": [
    {
     "data": {
      "text/plain": [
       "[[4750107, 4446, 596735, 1588444, 6661],\n",
       " [1190, 4822437, 5869106, 1176566, 6654663],\n",
       " [4801055, 7327347, 8631, 6786, 2146],\n",
       " [9214, 3356972, 7059, 4786679, 6820584],\n",
       " [3761504, 3318, 6142, 713, 6590],\n",
       " [4182, 5981, 8853, 6887806, 6975086],\n",
       " [9682, 5509, 997315, 8363, 7554675],\n",
       " [6523, 1565753, 1207, 7463287, 7384295],\n",
       " [695532, 1100434, 4721, 9598, 3929213],\n",
       " [4700632, 7587, 3812934, 437, 967],\n",
       " [1036600, 6990556, 718, 1412885, 4819],\n",
       " [7817, 845547, 2556863, 6380, 7022029],\n",
       " [9019, 5928, 7031829, 5055, 9469],\n",
       " [3401898, 1291183, 2808, 4718634, 8412],\n",
       " [7479372, 5569, 5042512, 953233, 2690],\n",
       " [9872, 6754191, 3063370, 8983, 2923054],\n",
       " [1244830, 7036, 1595518, 4015, 1171779],\n",
       " [4095, 1582927, 7306126, 8941, 730163],\n",
       " [6071, 5553533, 6970706, 7452, 3395235],\n",
       " [5918, 8952, 1165752, 5736, 7532701],\n",
       " [5674, 583467, 614471, 1171849, 1581643],\n",
       " [6861322, 5069647, 6891000, 8552, 3408653],\n",
       " [4154, 3372438, 5112712, 584516, 1331602],\n",
       " [7881, 1176575, 5859633, 6715494, 9354],\n",
       " [6613239, 4793192, 8041, 9161, 992874],\n",
       " [1526701, 6644914, 2189079, 7402713, 1783],\n",
       " [7479409, 607240, 4157985, 3240871, 2912],\n",
       " [1158551, 7034388, 4858, 584009, 7533],\n",
       " [942489, 2876291, 6632930, 1535564, 1047602],\n",
       " [1463775, 5545568, 3431353, 3549, 8169],\n",
       " [5258000, 4107, 7274, 7575630, 8569],\n",
       " [630505, 4918271, 4110, 9790, 2038660],\n",
       " [2364, 4108, 4533, 1995527],\n",
       " [1408278, 2427, 3859, 3074518]]"
      ]
     },
     "execution_count": 49,
     "metadata": {},
     "output_type": "execute_result"
    }
   ],
   "source": [
    "# Create a parents for testing\n",
    "#d1 = list(group_areas(list(range(99)), randomize=True))\n",
    "#d2 = list(group_areas(list(range(99)), randomize=True))\n",
    "district2 = areas_list(clubs)\n",
    "district2"
   ]
  },
  {
   "cell_type": "code",
   "execution_count": 51,
   "metadata": {},
   "outputs": [],
   "source": [
    "# Mating function\n",
    "def group_crossover(p1, p2):\n",
    "    # Find the cut-point\n",
    "    cut = int(len(p1)/2)\n",
    "    # Make ordered lists of club numbers\n",
    "    p1_list = flatten(p1)\n",
    "    p2_list = flatten(p2)\n",
    "    \n",
    "    # Initialize offspring\n",
    "    o1_cut = p1[:cut]\n",
    "    o2_cut = p2[:cut]\n",
    "    \n",
    "    # Add any remaining valid areas from second parent\n",
    "    p2_rem = [area for area in p2 if not any(club in area for club in flatten(o1_cut))]\n",
    "    p1_rem = [area for area in p1 if not any(club in area for club in flatten(o2_cut))]\n",
    "\n",
    "    o1_valid = o1_cut + p2_rem\n",
    "    o2_valid = o2_cut + p1_rem\n",
    "\n",
    "    # Add missing clubs\n",
    "    o1_missing = [club for club in p1_list if club not in flatten(o1_valid)]\n",
    "    o2_missing = [club for club in p2_list if club not in flatten(o2_valid)]\n",
    "    \n",
    "    o1 = o1_valid + list(group_areas(o1_missing))\n",
    "    o2 = o2_valid + list(group_areas(o2_missing))\n",
    "    \n",
    "    return o1, o2\n"
   ]
  },
  {
   "cell_type": "markdown",
   "metadata": {},
   "source": [
    "### Mutation Function\n",
    "Like the crossover mating function, we need a custom mutation function since I didn't see a swap mutation function."
   ]
  },
  {
   "cell_type": "code",
   "execution_count": 52,
   "metadata": {},
   "outputs": [],
   "source": [
    "def swap_mutation(district):\n",
    "    d_list = flatten(district)\n",
    "\n",
    "    club_index_1 = random.randint(0, len(d_list))\n",
    "    club_index_2 = random.randint(0, len(d_list))\n",
    "    \n",
    "    club_1 = d_list[club_index_1]\n",
    "    club_2 = d_list[club_index_2]\n",
    "    \n",
    "    d_list[club_index_1] = club_2\n",
    "    d_list[club_index_2] = club_1\n",
    "    \n",
    "    return list(group_areas(d_list))\n"
   ]
  },
  {
   "cell_type": "markdown",
   "metadata": {},
   "source": [
    "### Algorithm Constants"
   ]
  },
  {
   "cell_type": "code",
   "execution_count": 16,
   "metadata": {},
   "outputs": [],
   "source": [
    "POPULATION_SIZE = 200\n",
    "P_CROSSOVER = 0.5  # probability for crossover\n",
    "P_MUTATION = 0.1   # probability for mutating an individual\n",
    "MAX_GENERATIONS = 50\n",
    "HALL_OF_FAME_SIZE = 10\n",
    "\n",
    "random.seed(42)"
   ]
  },
  {
   "cell_type": "markdown",
   "metadata": {},
   "source": [
    "### Initialize algorithm objects"
   ]
  },
  {
   "cell_type": "code",
   "execution_count": 56,
   "metadata": {},
   "outputs": [],
   "source": [
    "# The weights correspond to quality std and average distance\n",
    "creator.create('FitnessMin', base.Fitness, weights=(-1, -1))\n",
    "creator.create('Individual', list, fitness=creator.FitnessMin)\n",
    "\n",
    "toolbox = base.Toolbox()\n",
    "\n",
    "#toolbox.register('make_district', areas_list, clubs)\n",
    "#toolbox.register('individual', tools.initRepeat, creator.Individual, toolbox.make_district, n=1)\n",
    "toolbox.register('individual', tools.initRepeat, creator.Individual, areas_list, n=1)\n",
    "toolbox.register('population', tools.initRepeat, list, toolbox.individual)"
   ]
  },
  {
   "cell_type": "markdown",
   "metadata": {},
   "source": [
    "### Initialize Rest of Genetic Algorithm"
   ]
  },
  {
   "cell_type": "code",
   "execution_count": 57,
   "metadata": {},
   "outputs": [],
   "source": [
    "toolbox.register('evaluate', evaluate_district)\n",
    "toolbox.register('mate', group_crossover)\n",
    "toolbox.register('mutate', swap_mutation)\n",
    "toolbox.register('select', tools.selTournament, tournsize=3)"
   ]
  },
  {
   "cell_type": "markdown",
   "metadata": {},
   "source": [
    "### Track evaluation stats"
   ]
  },
  {
   "cell_type": "code",
   "execution_count": 58,
   "metadata": {},
   "outputs": [],
   "source": [
    "stats = tools.Statistics(lambda ind: ind.fitness.values)\n",
    "stats.register(\"min\", np.min)\n",
    "stats.register(\"avg\", np.mean)\n",
    "hof = tools.HallOfFame(HALL_OF_FAME_SIZE)"
   ]
  },
  {
   "cell_type": "code",
   "execution_count": 66,
   "metadata": {},
   "outputs": [],
   "source": [
    "#population = toolbox.population(n=POPULATION_SIZE)\n",
    "population = [areas_list() for _ in range(POPULATION_SIZE)]"
   ]
  },
  {
   "cell_type": "code",
   "execution_count": 67,
   "metadata": {},
   "outputs": [
    {
     "data": {
      "text/plain": [
       "[[[1190, 6523, 1165752, 1535564, 2690],\n",
       "  [3549, 7306126, 8569, 2923054, 4822437],\n",
       "  [4793192, 5869106, 2912, 1036600, 6590],\n",
       "  [7402713, 7059, 1408278, 718, 7463287],\n",
       "  [4154, 3318, 4095, 4015, 3356972],\n",
       "  [7587, 6071, 2876291, 630505, 9354],\n",
       "  [6891000, 5918, 3431353, 4108, 7034388],\n",
       "  [9682, 5569, 3395235, 5258000, 6754191],\n",
       "  [8169, 6644914, 9598, 4533, 3401898],\n",
       "  [8952, 5042512, 584516, 4446, 1565753],\n",
       "  [6380, 992874, 7479409, 9872, 4107],\n",
       "  [1244830, 7479372, 5069647, 7031829, 5928],\n",
       "  [8983, 6661, 4721, 3812934, 6820584],\n",
       "  [730163, 3240871, 7817, 4157985, 6786],\n",
       "  [3372438, 7384295, 9790, 1171779, 5553533],\n",
       "  [5509, 614471, 7022029, 4786679, 967],\n",
       "  [7452, 7881, 5545568, 8853, 6975086],\n",
       "  [1581643, 6970706, 4700632, 7533, 6654663],\n",
       "  [953233, 6142, 1412885, 1331602, 1526701],\n",
       "  [3408653, 8552, 5981, 3859, 4750107],\n",
       "  [3929213, 6715494, 2556863, 7554675, 997315],\n",
       "  [1595518, 7274, 8412, 6990556, 4718634],\n",
       "  [5674, 596735, 2146, 1171849, 1100434],\n",
       "  [2038660, 4182, 4858, 6861322, 9019],\n",
       "  [4110, 8631, 7532701, 584009, 1291183],\n",
       "  [6632930, 695532, 5055, 4801055, 713],\n",
       "  [1176566, 2189079, 1158551, 7036, 6887806],\n",
       "  [1463775, 1783, 5859633, 5736, 437],\n",
       "  [9469, 845547, 1995527, 8941, 583467],\n",
       "  [2427, 4819, 607240, 1207, 6613239],\n",
       "  [1588444, 2364, 1176575, 1582927, 4918271],\n",
       "  [7575630, 8041, 3761504, 9214, 1047602],\n",
       "  [9161, 3074518, 942489, 8363],\n",
       "  [7327347, 3063370, 2808, 5112712]],\n",
       " [[942489, 6820584, 3401898, 967, 2189079],\n",
       "  [6887806, 4718634, 5674, 3063370, 2808],\n",
       "  [1408278, 4801055, 4793192, 3859, 7306126],\n",
       "  [7034388, 6975086, 4721, 5569, 5553533],\n",
       "  [6861322, 3318, 6523, 9790, 4819],\n",
       "  [584009, 2146, 7575630, 4157985, 6380],\n",
       "  [6632930, 4750107, 7554675, 6990556, 1581643],\n",
       "  [9469, 6590, 9682, 7384295, 8169],\n",
       "  [845547, 8569, 9598, 7327347, 1412885],\n",
       "  [1047602, 5112712, 4154, 730163, 953233],\n",
       "  [5545568, 607240, 2427, 6754191, 4822437],\n",
       "  [9214, 5069647, 4107, 7532701, 7479409],\n",
       "  [8853, 4108, 9019, 7452, 1565753],\n",
       "  [2556863, 4918271, 7533, 4786679, 5869106],\n",
       "  [5258000, 1535564, 5928, 1176566, 3356972],\n",
       "  [3240871, 7587, 8941, 1995527, 6644914],\n",
       "  [1036600, 6654663, 7817, 8983, 2690],\n",
       "  [1165752, 4015, 4182, 713, 2876291],\n",
       "  [718, 3812934, 5509, 2038660, 3929213],\n",
       "  [1783, 992874, 6786, 7479372, 997315],\n",
       "  [1526701, 4700632, 8041, 5981, 1291183],\n",
       "  [8631, 4110, 5859633, 5736, 9161],\n",
       "  [7463287, 3549, 7022029, 8952, 7059],\n",
       "  [1331602, 6661, 3395235, 1463775, 3761504],\n",
       "  [4533, 2923054, 3372438, 596735, 7036],\n",
       "  [630505, 8412, 5918, 1588444, 3074518],\n",
       "  [8552, 614471, 4858, 1190, 1176575],\n",
       "  [7274, 6142, 9872, 5042512, 1171779],\n",
       "  [1207, 6891000, 1595518, 4446, 1158551],\n",
       "  [2364, 7402713, 695532, 6715494, 9354],\n",
       "  [3408653, 1582927, 6970706, 2912, 6613239],\n",
       "  [5055, 8363, 1171849, 4095, 1244830],\n",
       "  [7881, 584516, 7031829, 3431353],\n",
       "  [6071, 583467, 437, 1100434]]]"
      ]
     },
     "execution_count": 67,
     "metadata": {},
     "output_type": "execute_result"
    }
   ],
   "source": [
    "population[:2]"
   ]
  },
  {
   "cell_type": "markdown",
   "metadata": {},
   "source": [
    "### Run Algorithm"
   ]
  },
  {
   "cell_type": "code",
   "execution_count": 68,
   "metadata": {},
   "outputs": [
    {
     "ename": "AttributeError",
     "evalue": "'list' object has no attribute 'fitness'",
     "output_type": "error",
     "traceback": [
      "\u001b[1;31m---------------------------------------------------------------------------\u001b[0m",
      "\u001b[1;31mAttributeError\u001b[0m                            Traceback (most recent call last)",
      "\u001b[1;32m<ipython-input-68-27124dd5ed44>\u001b[0m in \u001b[0;36m<module>\u001b[1;34m\u001b[0m\n\u001b[0;32m      2\u001b[0m population, logbook = algorithms.eaSimple(population, toolbox, cxpb=P_CROSSOVER, \n\u001b[0;32m      3\u001b[0m                                           \u001b[0mmutpb\u001b[0m\u001b[1;33m=\u001b[0m\u001b[0mP_MUTATION\u001b[0m\u001b[1;33m,\u001b[0m \u001b[0mngen\u001b[0m\u001b[1;33m=\u001b[0m\u001b[0mMAX_GENERATIONS\u001b[0m\u001b[1;33m,\u001b[0m\u001b[1;33m\u001b[0m\u001b[1;33m\u001b[0m\u001b[0m\n\u001b[1;32m----> 4\u001b[1;33m                                           stats=stats, halloffame=hof, verbose=True)\n\u001b[0m\u001b[0;32m      5\u001b[0m \u001b[1;33m\u001b[0m\u001b[0m\n\u001b[0;32m      6\u001b[0m \u001b[1;31m# Genetic Algorithm is done - extract statistics:\u001b[0m\u001b[1;33m\u001b[0m\u001b[1;33m\u001b[0m\u001b[1;33m\u001b[0m\u001b[0m\n",
      "\u001b[1;32m~\\Anaconda3\\envs\\deap\\lib\\site-packages\\deap\\algorithms.py\u001b[0m in \u001b[0;36meaSimple\u001b[1;34m(population, toolbox, cxpb, mutpb, ngen, stats, halloffame, verbose)\u001b[0m\n\u001b[0;32m    147\u001b[0m \u001b[1;33m\u001b[0m\u001b[0m\n\u001b[0;32m    148\u001b[0m     \u001b[1;31m# Evaluate the individuals with an invalid fitness\u001b[0m\u001b[1;33m\u001b[0m\u001b[1;33m\u001b[0m\u001b[1;33m\u001b[0m\u001b[0m\n\u001b[1;32m--> 149\u001b[1;33m     \u001b[0minvalid_ind\u001b[0m \u001b[1;33m=\u001b[0m \u001b[1;33m[\u001b[0m\u001b[0mind\u001b[0m \u001b[1;32mfor\u001b[0m \u001b[0mind\u001b[0m \u001b[1;32min\u001b[0m \u001b[0mpopulation\u001b[0m \u001b[1;32mif\u001b[0m \u001b[1;32mnot\u001b[0m \u001b[0mind\u001b[0m\u001b[1;33m.\u001b[0m\u001b[0mfitness\u001b[0m\u001b[1;33m.\u001b[0m\u001b[0mvalid\u001b[0m\u001b[1;33m]\u001b[0m\u001b[1;33m\u001b[0m\u001b[1;33m\u001b[0m\u001b[0m\n\u001b[0m\u001b[0;32m    150\u001b[0m     \u001b[0mfitnesses\u001b[0m \u001b[1;33m=\u001b[0m \u001b[0mtoolbox\u001b[0m\u001b[1;33m.\u001b[0m\u001b[0mmap\u001b[0m\u001b[1;33m(\u001b[0m\u001b[0mtoolbox\u001b[0m\u001b[1;33m.\u001b[0m\u001b[0mevaluate\u001b[0m\u001b[1;33m,\u001b[0m \u001b[0minvalid_ind\u001b[0m\u001b[1;33m)\u001b[0m\u001b[1;33m\u001b[0m\u001b[1;33m\u001b[0m\u001b[0m\n\u001b[0;32m    151\u001b[0m     \u001b[1;32mfor\u001b[0m \u001b[0mind\u001b[0m\u001b[1;33m,\u001b[0m \u001b[0mfit\u001b[0m \u001b[1;32min\u001b[0m \u001b[0mzip\u001b[0m\u001b[1;33m(\u001b[0m\u001b[0minvalid_ind\u001b[0m\u001b[1;33m,\u001b[0m \u001b[0mfitnesses\u001b[0m\u001b[1;33m)\u001b[0m\u001b[1;33m:\u001b[0m\u001b[1;33m\u001b[0m\u001b[1;33m\u001b[0m\u001b[0m\n",
      "\u001b[1;32m~\\Anaconda3\\envs\\deap\\lib\\site-packages\\deap\\algorithms.py\u001b[0m in \u001b[0;36m<listcomp>\u001b[1;34m(.0)\u001b[0m\n\u001b[0;32m    147\u001b[0m \u001b[1;33m\u001b[0m\u001b[0m\n\u001b[0;32m    148\u001b[0m     \u001b[1;31m# Evaluate the individuals with an invalid fitness\u001b[0m\u001b[1;33m\u001b[0m\u001b[1;33m\u001b[0m\u001b[1;33m\u001b[0m\u001b[0m\n\u001b[1;32m--> 149\u001b[1;33m     \u001b[0minvalid_ind\u001b[0m \u001b[1;33m=\u001b[0m \u001b[1;33m[\u001b[0m\u001b[0mind\u001b[0m \u001b[1;32mfor\u001b[0m \u001b[0mind\u001b[0m \u001b[1;32min\u001b[0m \u001b[0mpopulation\u001b[0m \u001b[1;32mif\u001b[0m \u001b[1;32mnot\u001b[0m \u001b[0mind\u001b[0m\u001b[1;33m.\u001b[0m\u001b[0mfitness\u001b[0m\u001b[1;33m.\u001b[0m\u001b[0mvalid\u001b[0m\u001b[1;33m]\u001b[0m\u001b[1;33m\u001b[0m\u001b[1;33m\u001b[0m\u001b[0m\n\u001b[0m\u001b[0;32m    150\u001b[0m     \u001b[0mfitnesses\u001b[0m \u001b[1;33m=\u001b[0m \u001b[0mtoolbox\u001b[0m\u001b[1;33m.\u001b[0m\u001b[0mmap\u001b[0m\u001b[1;33m(\u001b[0m\u001b[0mtoolbox\u001b[0m\u001b[1;33m.\u001b[0m\u001b[0mevaluate\u001b[0m\u001b[1;33m,\u001b[0m \u001b[0minvalid_ind\u001b[0m\u001b[1;33m)\u001b[0m\u001b[1;33m\u001b[0m\u001b[1;33m\u001b[0m\u001b[0m\n\u001b[0;32m    151\u001b[0m     \u001b[1;32mfor\u001b[0m \u001b[0mind\u001b[0m\u001b[1;33m,\u001b[0m \u001b[0mfit\u001b[0m \u001b[1;32min\u001b[0m \u001b[0mzip\u001b[0m\u001b[1;33m(\u001b[0m\u001b[0minvalid_ind\u001b[0m\u001b[1;33m,\u001b[0m \u001b[0mfitnesses\u001b[0m\u001b[1;33m)\u001b[0m\u001b[1;33m:\u001b[0m\u001b[1;33m\u001b[0m\u001b[1;33m\u001b[0m\u001b[0m\n",
      "\u001b[1;31mAttributeError\u001b[0m: 'list' object has no attribute 'fitness'"
     ]
    }
   ],
   "source": [
    "# perform the Genetic Algorithm flow:\n",
    "population, logbook = algorithms.eaSimple(population, toolbox, cxpb=P_CROSSOVER, \n",
    "                                          mutpb=P_MUTATION, ngen=MAX_GENERATIONS,\n",
    "                                          stats=stats, halloffame=hof, verbose=True)\n",
    "\n",
    "# Genetic Algorithm is done - extract statistics:\n",
    "maxFitnessValues, meanFitnessValues = logbook.select(\"min\", \"avg\")"
   ]
  },
  {
   "cell_type": "markdown",
   "metadata": {},
   "source": [
    "### Visualize Stats"
   ]
  },
  {
   "cell_type": "code",
   "execution_count": null,
   "metadata": {},
   "outputs": [],
   "source": [
    "sns.set_style(\"whitegrid\")\n",
    "plt.plot(minFitnessValues, color='red')\n",
    "plt.plot(meanFitnessValues, color='green')\n",
    "plt.xlabel('Generation')\n",
    "plt.ylabel('Min / Average Fitness')\n",
    "plt.title('Min and Average Fitness over Generations')\n",
    "plt.show()"
   ]
  },
  {
   "cell_type": "markdown",
   "metadata": {},
   "source": [
    "### Check Best Results"
   ]
  },
  {
   "cell_type": "code",
   "execution_count": null,
   "metadata": {},
   "outputs": [],
   "source": [
    "print(\"Hall of Fame Individuals = \", *hof.items, sep=\"\\n\")\n",
    "print(\"Best Ever Individual = \", hof.items[0])"
   ]
  },
  {
   "cell_type": "markdown",
   "metadata": {},
   "source": [
    "### Export Solution(s)"
   ]
  },
  {
   "cell_type": "code",
   "execution_count": null,
   "metadata": {},
   "outputs": [],
   "source": [
    "first_district = hof.items[0]\n",
    "second_district = hof.items[1]\n",
    "third_district = hof.items[2]"
   ]
  }
 ],
 "metadata": {
  "kernelspec": {
   "display_name": "Python 3",
   "language": "python",
   "name": "python3"
  },
  "language_info": {
   "codemirror_mode": {
    "name": "ipython",
    "version": 3
   },
   "file_extension": ".py",
   "mimetype": "text/x-python",
   "name": "python",
   "nbconvert_exporter": "python",
   "pygments_lexer": "ipython3",
   "version": "3.7.9"
  }
 },
 "nbformat": 4,
 "nbformat_minor": 4
}
