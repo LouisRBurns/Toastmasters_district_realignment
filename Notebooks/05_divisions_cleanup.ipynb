{
 "cells": [
  {
   "cell_type": "markdown",
   "metadata": {},
   "source": [
    "# Divisions and Clean Up\n",
    "This notebook clusters areas into divisions, labels areas and divisions, and visualizes and exports the results.\n",
    "\n",
    "Divisions are formed through a k-means clustering algorithm. Numbers and letters are assigned by latitude. If the prior alignment had division names assigned by geographical references, that is fine too. It's easy enough to manually change those once the divisions are established.\n",
    "\n",
    "Finally, we map the best solution(s) for presentation."
   ]
  },
  {
   "cell_type": "code",
   "execution_count": null,
   "metadata": {},
   "outputs": [],
   "source": []
  }
 ],
 "metadata": {
  "kernelspec": {
   "display_name": "Python 3",
   "language": "python",
   "name": "python3"
  },
  "language_info": {
   "codemirror_mode": {
    "name": "ipython",
    "version": 3
   },
   "file_extension": ".py",
   "mimetype": "text/x-python",
   "name": "python",
   "nbconvert_exporter": "python",
   "pygments_lexer": "ipython3",
   "version": "3.7.9"
  }
 },
 "nbformat": 4,
 "nbformat_minor": 4
}
