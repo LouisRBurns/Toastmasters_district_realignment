{
 "cells": [
  {
   "cell_type": "markdown",
   "metadata": {},
   "source": [
    "## Realigning a Toastmasters District Using a Genetic Algorithm"
   ]
  },
  {
   "cell_type": "markdown",
   "metadata": {},
   "source": [
    "This notebook takes cleaned district data and uses the DEAP library to realign the district into areas.\n",
    "\n",
    "The fitness function optimizes the variation (standard deviation) of the club quality scores, minimizes the normalized average distance between the clubs, and optimizes the number of clubs which must be 4-6 with an ideal of 5.\n",
    "\n",
    "The club quality score is equal parts:\n",
    "1. A normalized absolute variation from 25 members - minimized,\n",
    "2. A normalized awards per member (participation) - maximized, and\n",
    "3. A normalized absolute variation of new members from 20% (retention) - minimized."
   ]
  },
  {
   "cell_type": "code",
   "execution_count": 1,
   "metadata": {},
   "outputs": [],
   "source": [
    "%matplotlib inline\n",
    "import numpy as np\n",
    "import pandas as pd\n",
    "import matplotlib.pyplot as plt\n",
    "import seaborn as sns\n",
    "import geopandas as gpd\n",
    "import contextily as ctx\n",
    "from itertools import combinations\n",
    "import random"
   ]
  },
  {
   "cell_type": "markdown",
   "metadata": {},
   "source": [
    "# Prepare Data"
   ]
  },
  {
   "cell_type": "code",
   "execution_count": 2,
   "metadata": {},
   "outputs": [
    {
     "data": {
      "text/html": [
       "<div>\n",
       "<style scoped>\n",
       "    .dataframe tbody tr th:only-of-type {\n",
       "        vertical-align: middle;\n",
       "    }\n",
       "\n",
       "    .dataframe tbody tr th {\n",
       "        vertical-align: top;\n",
       "    }\n",
       "\n",
       "    .dataframe thead th {\n",
       "        text-align: right;\n",
       "    }\n",
       "</style>\n",
       "<table border=\"1\" class=\"dataframe\">\n",
       "  <thead>\n",
       "    <tr style=\"text-align: right;\">\n",
       "      <th></th>\n",
       "      <th>club_no</th>\n",
       "      <th>n_quality</th>\n",
       "    </tr>\n",
       "  </thead>\n",
       "  <tbody>\n",
       "    <tr>\n",
       "      <th>0</th>\n",
       "      <td>5509</td>\n",
       "      <td>0.677709</td>\n",
       "    </tr>\n",
       "    <tr>\n",
       "      <th>1</th>\n",
       "      <td>7036</td>\n",
       "      <td>0.695792</td>\n",
       "    </tr>\n",
       "    <tr>\n",
       "      <th>2</th>\n",
       "      <td>9682</td>\n",
       "      <td>0.614715</td>\n",
       "    </tr>\n",
       "    <tr>\n",
       "      <th>3</th>\n",
       "      <td>584009</td>\n",
       "      <td>0.475900</td>\n",
       "    </tr>\n",
       "    <tr>\n",
       "      <th>4</th>\n",
       "      <td>1100434</td>\n",
       "      <td>0.768516</td>\n",
       "    </tr>\n",
       "  </tbody>\n",
       "</table>\n",
       "</div>"
      ],
      "text/plain": [
       "   club_no  n_quality\n",
       "0     5509   0.677709\n",
       "1     7036   0.695792\n",
       "2     9682   0.614715\n",
       "3   584009   0.475900\n",
       "4  1100434   0.768516"
      ]
     },
     "execution_count": 2,
     "metadata": {},
     "output_type": "execute_result"
    }
   ],
   "source": [
    "# Import data - only quality score needed for algorithm\n",
    "clubs = pd.read_csv('clubs_to_realign.csv')\n",
    "clubs.head()"
   ]
  },
  {
   "cell_type": "markdown",
   "metadata": {},
   "source": [
    "We'll be using the distance matrix we created earlier. Let's import it and set it up."
   ]
  },
  {
   "cell_type": "code",
   "execution_count": 3,
   "metadata": {},
   "outputs": [
    {
     "data": {
      "text/html": [
       "<div>\n",
       "<style scoped>\n",
       "    .dataframe tbody tr th:only-of-type {\n",
       "        vertical-align: middle;\n",
       "    }\n",
       "\n",
       "    .dataframe tbody tr th {\n",
       "        vertical-align: top;\n",
       "    }\n",
       "\n",
       "    .dataframe thead th {\n",
       "        text-align: right;\n",
       "    }\n",
       "</style>\n",
       "<table border=\"1\" class=\"dataframe\">\n",
       "  <thead>\n",
       "    <tr style=\"text-align: right;\">\n",
       "      <th></th>\n",
       "      <th>5509</th>\n",
       "      <th>7036</th>\n",
       "      <th>9682</th>\n",
       "      <th>584009</th>\n",
       "      <th>1100434</th>\n",
       "      <th>718</th>\n",
       "      <th>4819</th>\n",
       "      <th>9790</th>\n",
       "      <th>5069647</th>\n",
       "      <th>7575630</th>\n",
       "      <th>...</th>\n",
       "      <th>1783</th>\n",
       "      <th>596735</th>\n",
       "      <th>4700632</th>\n",
       "      <th>5258000</th>\n",
       "      <th>2690</th>\n",
       "      <th>8569</th>\n",
       "      <th>3929213</th>\n",
       "      <th>4822437</th>\n",
       "      <th>5569</th>\n",
       "      <th>1565753</th>\n",
       "    </tr>\n",
       "    <tr>\n",
       "      <th>club_no</th>\n",
       "      <th></th>\n",
       "      <th></th>\n",
       "      <th></th>\n",
       "      <th></th>\n",
       "      <th></th>\n",
       "      <th></th>\n",
       "      <th></th>\n",
       "      <th></th>\n",
       "      <th></th>\n",
       "      <th></th>\n",
       "      <th></th>\n",
       "      <th></th>\n",
       "      <th></th>\n",
       "      <th></th>\n",
       "      <th></th>\n",
       "      <th></th>\n",
       "      <th></th>\n",
       "      <th></th>\n",
       "      <th></th>\n",
       "      <th></th>\n",
       "      <th></th>\n",
       "    </tr>\n",
       "  </thead>\n",
       "  <tbody>\n",
       "    <tr>\n",
       "      <th>5509</th>\n",
       "      <td>0.000000</td>\n",
       "      <td>0.000000</td>\n",
       "      <td>0.309451</td>\n",
       "      <td>0.315310</td>\n",
       "      <td>0.000000</td>\n",
       "      <td>0.309451</td>\n",
       "      <td>0.338685</td>\n",
       "      <td>0.297754</td>\n",
       "      <td>0.347098</td>\n",
       "      <td>0.311623</td>\n",
       "      <td>...</td>\n",
       "      <td>0.752496</td>\n",
       "      <td>0.737553</td>\n",
       "      <td>0.748308</td>\n",
       "      <td>0.748308</td>\n",
       "      <td>0.748079</td>\n",
       "      <td>0.748308</td>\n",
       "      <td>0.748308</td>\n",
       "      <td>0.749572</td>\n",
       "      <td>0.748308</td>\n",
       "      <td>0.748308</td>\n",
       "    </tr>\n",
       "    <tr>\n",
       "      <th>7036</th>\n",
       "      <td>0.000000</td>\n",
       "      <td>0.000000</td>\n",
       "      <td>0.309451</td>\n",
       "      <td>0.315310</td>\n",
       "      <td>0.000000</td>\n",
       "      <td>0.309451</td>\n",
       "      <td>0.338685</td>\n",
       "      <td>0.297754</td>\n",
       "      <td>0.347098</td>\n",
       "      <td>0.311623</td>\n",
       "      <td>...</td>\n",
       "      <td>0.752496</td>\n",
       "      <td>0.737553</td>\n",
       "      <td>0.748308</td>\n",
       "      <td>0.748308</td>\n",
       "      <td>0.748079</td>\n",
       "      <td>0.748308</td>\n",
       "      <td>0.748308</td>\n",
       "      <td>0.749572</td>\n",
       "      <td>0.748308</td>\n",
       "      <td>0.748308</td>\n",
       "    </tr>\n",
       "    <tr>\n",
       "      <th>9682</th>\n",
       "      <td>0.360002</td>\n",
       "      <td>0.360002</td>\n",
       "      <td>0.000000</td>\n",
       "      <td>0.033326</td>\n",
       "      <td>0.360002</td>\n",
       "      <td>0.000000</td>\n",
       "      <td>0.035332</td>\n",
       "      <td>0.024728</td>\n",
       "      <td>0.100703</td>\n",
       "      <td>0.011137</td>\n",
       "      <td>...</td>\n",
       "      <td>0.896155</td>\n",
       "      <td>0.892741</td>\n",
       "      <td>0.894353</td>\n",
       "      <td>0.894353</td>\n",
       "      <td>0.893528</td>\n",
       "      <td>0.894353</td>\n",
       "      <td>0.894353</td>\n",
       "      <td>0.895944</td>\n",
       "      <td>0.894353</td>\n",
       "      <td>0.894353</td>\n",
       "    </tr>\n",
       "    <tr>\n",
       "      <th>584009</th>\n",
       "      <td>0.378986</td>\n",
       "      <td>0.378986</td>\n",
       "      <td>0.034432</td>\n",
       "      <td>0.000000</td>\n",
       "      <td>0.378986</td>\n",
       "      <td>0.034432</td>\n",
       "      <td>0.047424</td>\n",
       "      <td>0.024879</td>\n",
       "      <td>0.070442</td>\n",
       "      <td>0.045275</td>\n",
       "      <td>...</td>\n",
       "      <td>0.927359</td>\n",
       "      <td>0.924798</td>\n",
       "      <td>0.926084</td>\n",
       "      <td>0.926084</td>\n",
       "      <td>0.925535</td>\n",
       "      <td>0.926084</td>\n",
       "      <td>0.926084</td>\n",
       "      <td>0.927159</td>\n",
       "      <td>0.926084</td>\n",
       "      <td>0.926084</td>\n",
       "    </tr>\n",
       "    <tr>\n",
       "      <th>1100434</th>\n",
       "      <td>0.000000</td>\n",
       "      <td>0.000000</td>\n",
       "      <td>0.309451</td>\n",
       "      <td>0.315310</td>\n",
       "      <td>0.000000</td>\n",
       "      <td>0.309451</td>\n",
       "      <td>0.338685</td>\n",
       "      <td>0.297754</td>\n",
       "      <td>0.347098</td>\n",
       "      <td>0.311623</td>\n",
       "      <td>...</td>\n",
       "      <td>0.752496</td>\n",
       "      <td>0.737553</td>\n",
       "      <td>0.748308</td>\n",
       "      <td>0.748308</td>\n",
       "      <td>0.748079</td>\n",
       "      <td>0.748308</td>\n",
       "      <td>0.748308</td>\n",
       "      <td>0.749572</td>\n",
       "      <td>0.748308</td>\n",
       "      <td>0.748308</td>\n",
       "    </tr>\n",
       "  </tbody>\n",
       "</table>\n",
       "<p>5 rows × 168 columns</p>\n",
       "</div>"
      ],
      "text/plain": [
       "          5509      7036      9682      584009    1100434   718       4819     \\\n",
       "club_no                                                                         \n",
       "5509     0.000000  0.000000  0.309451  0.315310  0.000000  0.309451  0.338685   \n",
       "7036     0.000000  0.000000  0.309451  0.315310  0.000000  0.309451  0.338685   \n",
       "9682     0.360002  0.360002  0.000000  0.033326  0.360002  0.000000  0.035332   \n",
       "584009   0.378986  0.378986  0.034432  0.000000  0.378986  0.034432  0.047424   \n",
       "1100434  0.000000  0.000000  0.309451  0.315310  0.000000  0.309451  0.338685   \n",
       "\n",
       "          9790      5069647   7575630  ...   1783      596735    4700632  \\\n",
       "club_no                                ...                                 \n",
       "5509     0.297754  0.347098  0.311623  ...  0.752496  0.737553  0.748308   \n",
       "7036     0.297754  0.347098  0.311623  ...  0.752496  0.737553  0.748308   \n",
       "9682     0.024728  0.100703  0.011137  ...  0.896155  0.892741  0.894353   \n",
       "584009   0.024879  0.070442  0.045275  ...  0.927359  0.924798  0.926084   \n",
       "1100434  0.297754  0.347098  0.311623  ...  0.752496  0.737553  0.748308   \n",
       "\n",
       "          5258000   2690      8569      3929213   4822437   5569      1565753  \n",
       "club_no                                                                        \n",
       "5509     0.748308  0.748079  0.748308  0.748308  0.749572  0.748308  0.748308  \n",
       "7036     0.748308  0.748079  0.748308  0.748308  0.749572  0.748308  0.748308  \n",
       "9682     0.894353  0.893528  0.894353  0.894353  0.895944  0.894353  0.894353  \n",
       "584009   0.926084  0.925535  0.926084  0.926084  0.927159  0.926084  0.926084  \n",
       "1100434  0.748308  0.748079  0.748308  0.748308  0.749572  0.748308  0.748308  \n",
       "\n",
       "[5 rows x 168 columns]"
      ]
     },
     "execution_count": 3,
     "metadata": {},
     "output_type": "execute_result"
    }
   ],
   "source": [
    "dist = pd.read_csv('club_distance_matrix.csv')\n",
    "dist.set_index('club_no', inplace=True)\n",
    "# Make sure the columns are integers too\n",
    "dist.columns = dist.columns.astype(int)\n",
    "dist.head()"
   ]
  },
  {
   "cell_type": "markdown",
   "metadata": {},
   "source": [
    "Since we're optimizing standard deviation, let's consider what an optimum would be. Ideally, there would be a good variety of strong and weak clubs, not all strong or all weak. All of one or the other would be a standard deviation of 0. Half strong and half weak would be 0.5 (from a range of 0 to 1). The ideal is something in between."
   ]
  },
  {
   "cell_type": "code",
   "execution_count": 4,
   "metadata": {},
   "outputs": [
    {
     "name": "stdout",
     "output_type": "stream",
     "text": [
      "An ideal distribution: 0.354\n"
     ]
    }
   ],
   "source": [
    "# This is a hypothetical area as a list of club scores\n",
    "# ranging from our normalized 0 to 1 scale. \n",
    "# This would be a well-balanced area.\n",
    "ideal = [0.0, 0.25, 0.5, 0.75, 1.0]\n",
    "# Calculate ideal standard deviation.\n",
    "std = round(np.std(ideal), 3)\n",
    "print(f'An ideal distribution: {std}')"
   ]
  },
  {
   "cell_type": "markdown",
   "metadata": {},
   "source": [
    "### Functions to Group and Format Areas"
   ]
  },
  {
   "cell_type": "markdown",
   "metadata": {},
   "source": [
    "DEAP can only register function names so all additional formatting needs to be done before that."
   ]
  },
  {
   "cell_type": "markdown",
   "metadata": {},
   "source": [
    "Since we want all areas to be 5 clubs, if we end up with less than 4 we need to make the last 2-4 areas have 4 clubs instead. Here we make a district encoded as a list of areas with lists of clubs. Input is a dataframe of clubs. Set clubs to default so that we don't need to add the parameter when registering it in the DEAP toolbox. We will also use the grouping function during crossover so we need a randomizing parameter to be able to turn it off at that time. "
   ]
  },
  {
   "cell_type": "code",
   "execution_count": 5,
   "metadata": {},
   "outputs": [],
   "source": [
    "def group_areas(clubs=clubs, randomize=False):\n",
    "    if randomize == True:\n",
    "        random.shuffle(clubs)\n",
    "    \n",
    "    # Check how many clubs would be left in last area\n",
    "    if len(clubs) % 5 in [0, 4]:\n",
    "        for i in range(0, len(clubs), 5): \n",
    "            yield clubs[i:i + 5]\n",
    "        \n",
    "    elif len(clubs) % 5 == 3:\n",
    "        for i in range(0, len(clubs)-8, 5):\n",
    "            yield clubs[i:i + 5]\n",
    "        for i in range(len(clubs)-8, len(clubs), 4):\n",
    "            yield clubs[i:i + 4]\n",
    "        \n",
    "    elif len(clubs) % 5 == 2:\n",
    "        for i in range(0, len(clubs)-12, 5):\n",
    "            yield clubs[i:i + 5]\n",
    "        for i in range(len(clubs)-12, len(clubs), 4):\n",
    "            yield clubs[i:i + 4]\n",
    "                \n",
    "    else: # Remaining cases have 1 left over club\n",
    "        for i in range(0, len(clubs)-16, 5):\n",
    "            yield clubs[i:i + 5]\n",
    "        for i in range(len(clubs)-16, len(clubs), 4):\n",
    "            yield clubs[i:i + 4]\n",
    "\n",
    "def areas_list(clubs=clubs):\n",
    "    return list(group_areas(list(clubs['club_no']), randomize=True))"
   ]
  },
  {
   "cell_type": "markdown",
   "metadata": {},
   "source": [
    "Test our areas_list function on a list of our clubs. Notice the last two areas have 4 clubs each."
   ]
  },
  {
   "cell_type": "code",
   "execution_count": 6,
   "metadata": {
    "collapsed": true,
    "jupyter": {
     "outputs_hidden": true
    }
   },
   "outputs": [
    {
     "data": {
      "text/plain": [
       "[[5569, 5042512, 4107, 7059, 5869106],\n",
       " [2427, 953233, 1783, 1047602, 4858],\n",
       " [6071, 1036600, 9354, 4015, 6632930],\n",
       " [1412885, 6861322, 1176566, 1190, 9214],\n",
       " [1331602, 5545568, 730163, 9682, 7274],\n",
       " [1535564, 2556863, 7031829, 1171779, 8941],\n",
       " [2189079, 1526701, 8569, 9161, 3318],\n",
       " [9469, 9019, 1595518, 7463287, 6613239],\n",
       " [6661, 2690, 1165752, 7533, 3372438],\n",
       " [614471, 997315, 3549, 9790, 7479372],\n",
       " [6715494, 2808, 713, 6142, 7817],\n",
       " [7022029, 5918, 6654663, 8552, 7532701],\n",
       " [4819, 942489, 4533, 845547, 8041],\n",
       " [1291183, 9598, 1171849, 4154, 3356972],\n",
       " [5981, 5112712, 607240, 1995527, 718],\n",
       " [7034388, 2923054, 3063370, 4718634, 596735],\n",
       " [967, 2146, 6970706, 7554675, 8169],\n",
       " [695532, 7384295, 7402713, 8952, 5055],\n",
       " [7327347, 4793192, 4110, 7036, 3431353],\n",
       " [6820584, 6891000, 992874, 437, 5509],\n",
       " [7479409, 1565753, 8412, 5859633, 8853],\n",
       " [3859, 1582927, 7881, 3401898, 5258000],\n",
       " [1158551, 2364, 5736, 5928, 3408653],\n",
       " [4918271, 8363, 3074518, 584516, 6590],\n",
       " [8983, 584009, 3240871, 4095, 2912],\n",
       " [4801055, 6380, 1581643, 4721, 4700632],\n",
       " [7575630, 6990556, 1244830, 4182, 4822437],\n",
       " [583467, 6523, 8631, 5553533, 2038660],\n",
       " [6887806, 4108, 6975086, 4750107, 1100434],\n",
       " [1588444, 3812934, 7306126, 5674, 4157985],\n",
       " [3761504, 7587, 1463775, 3929213, 3395235],\n",
       " [1207, 7452, 6754191, 6644914, 9872],\n",
       " [1408278, 4786679, 6786, 5069647],\n",
       " [2876291, 4446, 630505, 1176575]]"
      ]
     },
     "execution_count": 6,
     "metadata": {},
     "output_type": "execute_result"
    }
   ],
   "source": [
    "district1 = areas_list(clubs)\n",
    "district1"
   ]
  },
  {
   "cell_type": "markdown",
   "metadata": {},
   "source": [
    "### Build evaluation function\n",
    "- We will make sure most areas have 5 clubs through the `areas_list` function. \n",
    "- Our next criterion is minimizing the distance from the ideal quality distribution.\n",
    "- The final criterion is minimizing the distance between clubs.\n",
    "- Write functions for both calculations and call them both in the evaluation function.\n",
    "- Keep the two functions separate in case we decide to change the weights later.\n",
    "- Where parameters are constant (i.e. clubs or dist), set them as the default to work with the DEAP library better. "
   ]
  },
  {
   "cell_type": "code",
   "execution_count": 7,
   "metadata": {},
   "outputs": [],
   "source": [
    "# Function to calculate quality distribution\n",
    "# Specifically, we're going to minimize the average distance \n",
    "# of the standard deviation from 0.35 which is an approximately \n",
    "# ideal quality distribution of 5 clubs\n",
    "\n",
    "# This function returns a list of quality scores from a list of club numbers\n",
    "def area_qualities(area, clubs=clubs):\n",
    "    return [clubs[clubs['club_no'] == club]['n_quality'].iloc[0] for club in area]\n",
    "\n",
    "# This function returns the average distance from the ideal distribution for the district\n",
    "def quality_std(district, clubs=clubs):\n",
    "    return sum([abs(np.std(area_qualities(area, clubs))-0.35) for area in district]) / len(district)"
   ]
  },
  {
   "cell_type": "code",
   "execution_count": 8,
   "metadata": {},
   "outputs": [],
   "source": [
    "# Function to calculate average distance between all clubs in each area for the district\n",
    "\n",
    "# This function calculuates average distance in one area.\n",
    "def area_dist(clubs, dist=dist):\n",
    "    return sum([dist.loc[pair] for pair in list(combinations(clubs, 2))]) / \\\n",
    "            len(list(combinations(clubs, 2)))\n",
    "\n",
    "# This function calculates average distance of all areas\n",
    "def district_dist(district, dist=dist):\n",
    "    return sum([area_dist(area, dist) for area in district]) / len(district)"
   ]
  },
  {
   "cell_type": "code",
   "execution_count": 33,
   "metadata": {},
   "outputs": [],
   "source": [
    "# Evaluation Function\n",
    "# This returns a score representing the quality distribution\n",
    "# and average physical distance between clubs\n",
    "def evaluate_district(district, clubs=clubs, dist=dist):\n",
    "    return (quality_std(district, clubs) + district_dist(district, dist)) / 2"
   ]
  },
  {
   "cell_type": "code",
   "execution_count": 34,
   "metadata": {},
   "outputs": [
    {
     "data": {
      "text/plain": [
       "0.2189403187434103"
      ]
     },
     "execution_count": 34,
     "metadata": {},
     "output_type": "execute_result"
    }
   ],
   "source": [
    "evaluate_district(district1)"
   ]
  },
  {
   "cell_type": "markdown",
   "metadata": {},
   "source": [
    "### Build selection function\n",
    "- We will use tournament selection which means we'll use the evaluation function and pick the best of some number of districts (default k=3) to pick as a parent for the next generation.\n",
    "- Using 4 tends to converge on the initial best performers too soon and 2 tends to prevent convergence.\n",
    "- Additionally, we'll want to keep track of the best from generation to generation (Hall of Fame).\n",
    "- In the main algorithm, we'll repeat this until we have the number of parents we need."
   ]
  },
  {
   "cell_type": "code",
   "execution_count": 49,
   "metadata": {},
   "outputs": [],
   "source": [
    "def t_select(pop, k=3):\n",
    "    competitors = random.sample(pop, k)\n",
    "    best_district = []\n",
    "    best_score = 1\n",
    "    for i in competitors:\n",
    "        score = evaluate_district(i)\n",
    "        # Recall we want the lowest score\n",
    "        if score < best_score:\n",
    "            best_score = score\n",
    "            best_district = i\n",
    "    return best_district"
   ]
  },
  {
   "cell_type": "code",
   "execution_count": 50,
   "metadata": {
    "collapsed": true,
    "jupyter": {
     "outputs_hidden": true
    }
   },
   "outputs": [
    {
     "data": {
      "text/plain": [
       "[[6990556, 9469, 5055, 1036600, 4858],\n",
       " [4157985, 695532, 7034388, 2556863, 5981],\n",
       " [953233, 3929213, 7274, 997315, 730163],\n",
       " [4110, 6786, 3395235, 5553533, 7036],\n",
       " [9598, 5069647, 3431353, 1331602, 2189079],\n",
       " [3240871, 4721, 1526701, 8363, 4446],\n",
       " [6820584, 8952, 6142, 3356972, 9682],\n",
       " [718, 596735, 3401898, 4918271, 6861322],\n",
       " [437, 8041, 5869106, 2876291, 1207],\n",
       " [1408278, 7031829, 1047602, 1244830, 8941],\n",
       " [6590, 6970706, 4750107, 7587, 4533],\n",
       " [2364, 584516, 1412885, 1588444, 8552],\n",
       " [1463775, 2912, 5042512, 4154, 7479409],\n",
       " [9872, 5674, 6654663, 3372438, 2146],\n",
       " [6632930, 7022029, 1158551, 1100434, 7479372],\n",
       " [4108, 7402713, 6644914, 5509, 5736],\n",
       " [4786679, 2808, 1535564, 6891000, 9354],\n",
       " [8853, 1995527, 5112712, 4095, 8569],\n",
       " [8169, 4801055, 9161, 9790, 3063370],\n",
       " [2038660, 4015, 713, 3859, 583467],\n",
       " [3549, 6975086, 1595518, 8631, 7306126],\n",
       " [942489, 7327347, 5928, 6380, 9214],\n",
       " [6887806, 1176575, 1171779, 7817, 3074518],\n",
       " [2427, 7554675, 7059, 5918, 1565753],\n",
       " [4182, 4819, 4700632, 6523, 1291183],\n",
       " [7575630, 8412, 9019, 7881, 1581643],\n",
       " [4793192, 1176566, 6715494, 5569, 630505],\n",
       " [6661, 5859633, 7452, 1783, 5258000],\n",
       " [3812934, 614471, 3761504, 2923054, 5545568],\n",
       " [7463287, 1171849, 2690, 3408653, 967],\n",
       " [584009, 7533, 1165752, 845547, 7384295],\n",
       " [7532701, 4822437, 607240, 6613239, 992874],\n",
       " [1582927, 8983, 4718634, 3318],\n",
       " [1190, 6754191, 6071, 4107]]"
      ]
     },
     "execution_count": 50,
     "metadata": {},
     "output_type": "execute_result"
    }
   ],
   "source": [
    "t_select(population[:25])"
   ]
  },
  {
   "cell_type": "markdown",
   "metadata": {},
   "source": [
    "### Build Mating Function\n",
    "- Here we'll implement a variation of the one-point crossover. \n",
    "- Offspring 1 carries forward the first cut of parent 1.\n",
    "- Add any remaining complete areas from parent 2. \n",
    "- Fill in the remaining areas with missing clubs sequenced from parent 1.\n",
    "- Repeat for offspring 2."
   ]
  },
  {
   "cell_type": "markdown",
   "metadata": {},
   "source": [
    "Create a helper flattening function."
   ]
  },
  {
   "cell_type": "code",
   "execution_count": 10,
   "metadata": {},
   "outputs": [],
   "source": [
    "def flatten(district):\n",
    "    return [club for area in district for club in area]\n",
    "\n",
    "# Regroup: list(group_areas(clubs_list))"
   ]
  },
  {
   "cell_type": "code",
   "execution_count": 11,
   "metadata": {},
   "outputs": [
    {
     "data": {
      "text/plain": [
       "[[5859633, 6632930, 607240, 2912, 1582927],\n",
       " [614471, 2808, 4822437, 4182, 4786679],\n",
       " [584009, 1176566, 6644914, 7587, 4918271],\n",
       " [7059, 9872, 5258000, 3549, 6071],\n",
       " [6970706, 695532, 1463775, 953233, 7034388],\n",
       " [7274, 1176575, 3395235, 5928, 1244830],\n",
       " [5553533, 8952, 997315, 8853, 8941],\n",
       " [5674, 3372438, 6661, 2427, 713],\n",
       " [3859, 8983, 992874, 6820584, 1588444],\n",
       " [1171849, 3812934, 7532701, 9598, 1036600],\n",
       " [3074518, 8552, 4700632, 3063370, 4819],\n",
       " [4015, 5569, 9682, 8041, 7463287],\n",
       " [4718634, 7402713, 4446, 1565753, 596735],\n",
       " [7036, 1783, 6891000, 584516, 6654663],\n",
       " [4107, 2690, 2876291, 4721, 3356972],\n",
       " [6590, 6887806, 1331602, 7479409, 3408653],\n",
       " [718, 942489, 5981, 3318, 6786],\n",
       " [3240871, 7031829, 845547, 4793192, 630505],\n",
       " [1526701, 4108, 8569, 4533, 1995527],\n",
       " [9469, 6380, 8412, 6613239, 7327347],\n",
       " [3761504, 1100434, 5545568, 2038660, 5869106],\n",
       " [7479372, 5736, 6754191, 7306126, 2189079],\n",
       " [9019, 4801055, 1165752, 2364, 7881],\n",
       " [1158551, 7022029, 5055, 4750107, 1291183],\n",
       " [8169, 4110, 967, 4157985, 1207],\n",
       " [9161, 5509, 6523, 3401898, 3431353],\n",
       " [7452, 4154, 437, 7554675, 8631],\n",
       " [7533, 8363, 6861322, 1595518, 1408278],\n",
       " [3929213, 2923054, 6142, 7817, 6990556],\n",
       " [1171779, 1581643, 1190, 9354, 4858],\n",
       " [2556863, 6715494, 7384295, 1535564, 1412885],\n",
       " [2146, 5042512, 9214, 9790, 1047602],\n",
       " [7575630, 5112712, 4095, 583467],\n",
       " [6975086, 730163, 5918, 5069647]]"
      ]
     },
     "execution_count": 11,
     "metadata": {},
     "output_type": "execute_result"
    }
   ],
   "source": [
    "# Create another parent for testing\n",
    "district2 = areas_list(clubs)\n",
    "district2"
   ]
  },
  {
   "cell_type": "code",
   "execution_count": 12,
   "metadata": {},
   "outputs": [],
   "source": [
    "# Mating function\n",
    "def group_crossover(p1, p2):\n",
    "    # Find the cut-point\n",
    "    cut = int(len(p1)/2)\n",
    "    # Make ordered lists of club numbers\n",
    "    p1_list = flatten(p1)\n",
    "    p2_list = flatten(p2)\n",
    "    \n",
    "    # Initialize offspring\n",
    "    o1_cut = p1[:cut]\n",
    "    o2_cut = p2[:cut]\n",
    "    \n",
    "    # Add any remaining valid areas from second parent\n",
    "    p2_rem = [area for area in p2 if not any(club in area for club in flatten(o1_cut))]\n",
    "    p1_rem = [area for area in p1 if not any(club in area for club in flatten(o2_cut))]\n",
    "\n",
    "    o1_valid = o1_cut + p2_rem\n",
    "    o2_valid = o2_cut + p1_rem\n",
    "\n",
    "    # Add missing clubs\n",
    "    o1_missing = [club for club in p1_list if club not in flatten(o1_valid)]\n",
    "    o2_missing = [club for club in p2_list if club not in flatten(o2_valid)]\n",
    "    \n",
    "    o1 = o1_valid + list(group_areas(o1_missing))\n",
    "    o2 = o2_valid + list(group_areas(o2_missing))\n",
    "    \n",
    "    return o1, o2\n"
   ]
  },
  {
   "cell_type": "markdown",
   "metadata": {},
   "source": [
    "### Mutation Function\n",
    "Like the crossover mating function, we need a custom mutation function since I didn't see a swap mutation function."
   ]
  },
  {
   "cell_type": "code",
   "execution_count": 17,
   "metadata": {},
   "outputs": [],
   "source": [
    "def swap_mutate(district):\n",
    "    d_list = flatten(district)\n",
    "\n",
    "    club_index_1 = random.randint(0, len(d_list))\n",
    "    club_index_2 = random.randint(0, len(d_list))\n",
    "    \n",
    "    club_1 = d_list[club_index_1]\n",
    "    club_2 = d_list[club_index_2]\n",
    "    \n",
    "    d_list[club_index_1] = club_2\n",
    "    d_list[club_index_2] = club_1\n",
    "    \n",
    "    return list(group_areas(d_list))\n"
   ]
  },
  {
   "cell_type": "markdown",
   "metadata": {},
   "source": [
    "### Population Sorting, Stats, and Hall of Fame\n",
    "- During the main algorithm, we'll need to sort the population to retain the best.\n",
    "- We will want to visualize convergence which can be seen plotting the average and minimum scores as they approach zero across the generations.\n",
    "- The Hall of Fame keeps the best individuals without risking crossover or mutation."
   ]
  },
  {
   "cell_type": "code",
   "execution_count": 85,
   "metadata": {},
   "outputs": [],
   "source": [
    "def sort_districts(districts):\n",
    "    # Append the scores at the beginning of each district\n",
    "    scored_districts = [[evaluate_district(d)] + d for d in districts]\n",
    "    # Sort ascending according to the scores (lowest first)\n",
    "    sorted_districts = sorted(scored_districts)\n",
    "    # Return the districts without the scores\n",
    "    return [d[1:] for d in sorted_districts]"
   ]
  },
  {
   "cell_type": "code",
   "execution_count": 86,
   "metadata": {},
   "outputs": [],
   "source": [
    "def average_district_score(districts):\n",
    "    return np.mean([evaluate_district(d) for d in districts])\n",
    "\n",
    "def best_district_score(districts):\n",
    "    return np.min([evaluate_district(d) for d in districts])\n",
    "\n",
    "def hall_of_fame(districts, size=10):\n",
    "    return sort_districts(districts)[:size]"
   ]
  },
  {
   "cell_type": "markdown",
   "metadata": {},
   "source": [
    "### Test Functions"
   ]
  },
  {
   "cell_type": "code",
   "execution_count": 117,
   "metadata": {},
   "outputs": [
    {
     "data": {
      "text/plain": [
       "[0.36224413954893453,\n",
       " 0.36158858928970394,\n",
       " 0.3454328740857442,\n",
       " 0.3203331627715555,\n",
       " 0.33008569134214444]"
      ]
     },
     "execution_count": 117,
     "metadata": {},
     "output_type": "execute_result"
    }
   ],
   "source": [
    "# Make some toy districts and print out their scores for comparison\n",
    "d1 = areas_list(clubs[:24])\n",
    "d2 = areas_list(clubs[:24])\n",
    "d3 = areas_list(clubs[:24])\n",
    "d4 = areas_list(clubs[:24])\n",
    "d5 = areas_list(clubs[:24])\n",
    "toy_pop = [d1, d2, d3, d4, d5]\n",
    "[evaluate_district(d) for d in toy_pop]"
   ]
  },
  {
   "cell_type": "code",
   "execution_count": 90,
   "metadata": {},
   "outputs": [
    {
     "name": "stdout",
     "output_type": "stream",
     "text": [
      "Average district score: 0.3649441261969918\n",
      "Best district score: 0.341869716828055\n",
      "Top 3 best districts: [0.341869716828055, 0.3494228829947085, 0.37329572875325434]\n"
     ]
    }
   ],
   "source": [
    "# Test each stats function\n",
    "print(f'Average district score: {average_district_score(toy_pop)}')\n",
    "print(f'Best district score: {best_district_score(toy_pop)}')\n",
    "print(f'Top 3 best districts: {[evaluate_district(d) for d in hall_of_fame(toy_pop, size=3)]}')"
   ]
  },
  {
   "cell_type": "code",
   "execution_count": 101,
   "metadata": {
    "collapsed": true,
    "jupyter": {
     "outputs_hidden": true
    }
   },
   "outputs": [
    {
     "data": {
      "text/plain": [
       "([[5569, 5042512, 4107, 7059, 5869106],\n",
       "  [2427, 953233, 1783, 1047602, 4858],\n",
       "  [6071, 1036600, 9354, 4015, 6632930],\n",
       "  [1412885, 6861322, 1176566, 1190, 9214],\n",
       "  [1331602, 5545568, 730163, 9682, 7274],\n",
       "  [1535564, 2556863, 7031829, 1171779, 8941],\n",
       "  [2189079, 1526701, 8569, 9161, 3318],\n",
       "  [9469, 9019, 1595518, 7463287, 6613239],\n",
       "  [6661, 2690, 1165752, 7533, 3372438],\n",
       "  [614471, 997315, 3549, 9790, 7479372],\n",
       "  [6715494, 2808, 713, 6142, 7817],\n",
       "  [7022029, 5918, 6654663, 8552, 7532701],\n",
       "  [4819, 942489, 4533, 845547, 8041],\n",
       "  [1291183, 9598, 1171849, 4154, 3356972],\n",
       "  [5981, 5112712, 607240, 1995527, 718],\n",
       "  [7034388, 2923054, 3063370, 4718634, 596735],\n",
       "  [967, 2146, 6970706, 7554675, 8169],\n",
       "  [3859, 8983, 992874, 6820584, 1588444],\n",
       "  [695532, 7384295, 7402713, 8952, 5055],\n",
       "  [7327347, 4793192, 4110, 7036, 3431353],\n",
       "  [6891000, 437, 5509, 7479409, 1565753],\n",
       "  [8412, 5859633, 8853, 1582927, 7881],\n",
       "  [3401898, 5258000, 1158551, 2364, 5736],\n",
       "  [5928, 3408653, 4918271, 8363, 3074518],\n",
       "  [584516, 6590, 584009, 3240871, 4095],\n",
       "  [2912, 4801055, 6380, 1581643, 4721],\n",
       "  [4700632, 7575630, 6990556, 1244830, 4182],\n",
       "  [4822437, 583467, 6523, 8631, 5553533],\n",
       "  [2038660, 6887806, 4108, 6975086, 4750107],\n",
       "  [1100434, 3812934, 7306126, 5674, 4157985],\n",
       "  [3761504, 7587, 1463775, 3929213, 3395235],\n",
       "  [1207, 7452, 6754191, 6644914, 9872],\n",
       "  [1408278, 4786679, 6786, 5069647],\n",
       "  [2876291, 4446, 630505, 1176575]],\n",
       " [[5859633, 6632930, 607240, 2912, 1582927],\n",
       "  [614471, 2808, 4822437, 4182, 4786679],\n",
       "  [584009, 1176566, 6644914, 7587, 4918271],\n",
       "  [7059, 9872, 5258000, 3549, 6071],\n",
       "  [6970706, 695532, 1463775, 953233, 7034388],\n",
       "  [7274, 1176575, 3395235, 5928, 1244830],\n",
       "  [5553533, 8952, 997315, 8853, 8941],\n",
       "  [5674, 3372438, 6661, 2427, 713],\n",
       "  [3859, 8983, 992874, 6820584, 1588444],\n",
       "  [1171849, 3812934, 7532701, 9598, 1036600],\n",
       "  [3074518, 8552, 4700632, 3063370, 4819],\n",
       "  [4015, 5569, 9682, 8041, 7463287],\n",
       "  [4718634, 7402713, 4446, 1565753, 596735],\n",
       "  [7036, 1783, 6891000, 584516, 6654663],\n",
       "  [4107, 2690, 2876291, 4721, 3356972],\n",
       "  [6590, 6887806, 1331602, 7479409, 3408653],\n",
       "  [718, 942489, 5981, 3318, 6786],\n",
       "  [3240871, 7031829, 845547, 4793192, 630505],\n",
       "  [1526701, 4108, 8569, 4533, 1995527],\n",
       "  [9469, 6380, 8412, 6613239, 7327347],\n",
       "  [3761504, 1100434, 5545568, 2038660, 5869106],\n",
       "  [7479372, 5736, 6754191, 7306126, 2189079],\n",
       "  [9019, 4801055, 1165752, 2364, 7881],\n",
       "  [1158551, 7022029, 5055, 4750107, 1291183],\n",
       "  [8169, 4110, 967, 4157985, 1207],\n",
       "  [9161, 5509, 6523, 3401898, 3431353],\n",
       "  [7452, 4154, 437, 7554675, 8631],\n",
       "  [7533, 8363, 6861322, 1595518, 1408278],\n",
       "  [3929213, 2923054, 6142, 7817, 6990556],\n",
       "  [1171779, 1581643, 1190, 9354, 4858],\n",
       "  [2556863, 6715494, 7384295, 1535564, 1412885],\n",
       "  [2146, 5042512, 9214, 9790, 1047602],\n",
       "  [7575630, 5112712, 4095, 583467],\n",
       "  [6975086, 730163, 5918, 5069647]])"
      ]
     },
     "execution_count": 101,
     "metadata": {},
     "output_type": "execute_result"
    }
   ],
   "source": [
    "# Test Crossover\n",
    "o1, o2 = group_crossover(district1, district2)\n",
    "o1, o2"
   ]
  },
  {
   "cell_type": "code",
   "execution_count": 19,
   "metadata": {},
   "outputs": [
    {
     "data": {
      "text/plain": [
       "[[5569, 2427, 4107, 7059, 5869106], [5042512, 953233, 1783, 1047602, 4858]]"
      ]
     },
     "execution_count": 19,
     "metadata": {},
     "output_type": "execute_result"
    }
   ],
   "source": [
    "# Test Mutate\n",
    "swap_mutate([[5569, 5042512, 4107, 7059, 5869106],\n",
    "             [2427, 953233, 1783, 1047602, 4858]])"
   ]
  },
  {
   "cell_type": "markdown",
   "metadata": {},
   "source": [
    "### Algorithm Constants"
   ]
  },
  {
   "cell_type": "code",
   "execution_count": 137,
   "metadata": {},
   "outputs": [],
   "source": [
    "POPULATION_SIZE = 100\n",
    "P_CROSSOVER = 0.5  # probability for crossover\n",
    "P_MUTATION = 0.1   # probability for mutating an individual\n",
    "MAX_GENERATIONS = 5\n",
    "HOF_SIZE = 10 # Hall of Fame size\n",
    "\n",
    "random.seed(42)"
   ]
  },
  {
   "cell_type": "markdown",
   "metadata": {},
   "source": [
    "### Run Algorithm"
   ]
  },
  {
   "cell_type": "code",
   "execution_count": 140,
   "metadata": {},
   "outputs": [],
   "source": [
    "def ga(population=POPULATION_SIZE, pc=P_CROSSOVER, pm=P_MUTATION, gen=MAX_GENERATIONS, hof=HOF_SIZE):\n",
    "    \n",
    "    # Initialize population\n",
    "    pop = [areas_list() for _ in range(population)]\n",
    "    \n",
    "    # Initialize stats\n",
    "    averages = [average_district_score(pop)]\n",
    "    best_scores = [best_district_score(pop)]\n",
    "    hof_list = hall_of_fame(pop, hof)\n",
    "    \n",
    "    # Generation Loop\n",
    "    for g in range(gen):\n",
    "        offspring = []\n",
    "        \n",
    "        # Selection and crossover\n",
    "        for _ in range(len(pop)):\n",
    "            p1 = t_select(pop)\n",
    "            p2 = t_select(pop)\n",
    "            \n",
    "            if random.random() < pc:\n",
    "                offspring += group_crossover(p1, p2)\n",
    "            else:\n",
    "                offspring += (p1 + p2)\n",
    "            \n",
    "        # Mutation\n",
    "        offspring = [swap_mutate(d) if random.random() < pm else d for d in offspring]\n",
    "        \n",
    "        # Sort and stats\n",
    "        offspring = sort_districts(offspring)\n",
    "        averages += [average_district_score(offspring)]\n",
    "        best_scores += [best_district_score(offspring)]\n",
    "        hof_list = hall_of_fame(offspring, hof)\n",
    "        \n",
    "        print(f'Generation {g}: Average: {averages[-1]}, Best: {best_scores[-1]}')\n",
    "        \n",
    "        pop = offspring[:]\n",
    "        \n",
    "    return pop[0], averages, best_scores, hof_list\n"
   ]
  },
  {
   "cell_type": "code",
   "execution_count": 141,
   "metadata": {},
   "outputs": [
    {
     "ename": "TypeError",
     "evalue": "'int' object is not iterable",
     "output_type": "error",
     "traceback": [
      "\u001b[1;31m---------------------------------------------------------------------------\u001b[0m",
      "\u001b[1;31mTypeError\u001b[0m                                 Traceback (most recent call last)",
      "\u001b[1;32m<ipython-input-141-ce4e1f6c136d>\u001b[0m in \u001b[0;36m<module>\u001b[1;34m\u001b[0m\n\u001b[1;32m----> 1\u001b[1;33m \u001b[0mbest\u001b[0m\u001b[1;33m,\u001b[0m \u001b[0maverage\u001b[0m\u001b[1;33m,\u001b[0m \u001b[0mbest_score\u001b[0m\u001b[1;33m,\u001b[0m \u001b[0mhof_list\u001b[0m \u001b[1;33m=\u001b[0m \u001b[0mga\u001b[0m\u001b[1;33m(\u001b[0m\u001b[1;33m)\u001b[0m\u001b[1;33m\u001b[0m\u001b[1;33m\u001b[0m\u001b[0m\n\u001b[0m",
      "\u001b[1;32m<ipython-input-140-4691287a8575>\u001b[0m in \u001b[0;36mga\u001b[1;34m(population, pc, pm, gen, hof)\u001b[0m\n\u001b[0;32m     24\u001b[0m \u001b[1;33m\u001b[0m\u001b[0m\n\u001b[0;32m     25\u001b[0m         \u001b[1;31m# Mutation\u001b[0m\u001b[1;33m\u001b[0m\u001b[1;33m\u001b[0m\u001b[1;33m\u001b[0m\u001b[0m\n\u001b[1;32m---> 26\u001b[1;33m         \u001b[0moffspring\u001b[0m \u001b[1;33m=\u001b[0m \u001b[1;33m[\u001b[0m\u001b[0mswap_mutate\u001b[0m\u001b[1;33m(\u001b[0m\u001b[0md\u001b[0m\u001b[1;33m)\u001b[0m \u001b[1;32mif\u001b[0m \u001b[0mrandom\u001b[0m\u001b[1;33m.\u001b[0m\u001b[0mrandom\u001b[0m\u001b[1;33m(\u001b[0m\u001b[1;33m)\u001b[0m \u001b[1;33m<\u001b[0m \u001b[0mpm\u001b[0m \u001b[1;32melse\u001b[0m \u001b[0md\u001b[0m \u001b[1;32mfor\u001b[0m \u001b[0md\u001b[0m \u001b[1;32min\u001b[0m \u001b[0moffspring\u001b[0m\u001b[1;33m]\u001b[0m\u001b[1;33m\u001b[0m\u001b[1;33m\u001b[0m\u001b[0m\n\u001b[0m\u001b[0;32m     27\u001b[0m \u001b[1;33m\u001b[0m\u001b[0m\n\u001b[0;32m     28\u001b[0m         \u001b[1;31m# Sort and stats\u001b[0m\u001b[1;33m\u001b[0m\u001b[1;33m\u001b[0m\u001b[1;33m\u001b[0m\u001b[0m\n",
      "\u001b[1;32m<ipython-input-140-4691287a8575>\u001b[0m in \u001b[0;36m<listcomp>\u001b[1;34m(.0)\u001b[0m\n\u001b[0;32m     24\u001b[0m \u001b[1;33m\u001b[0m\u001b[0m\n\u001b[0;32m     25\u001b[0m         \u001b[1;31m# Mutation\u001b[0m\u001b[1;33m\u001b[0m\u001b[1;33m\u001b[0m\u001b[1;33m\u001b[0m\u001b[0m\n\u001b[1;32m---> 26\u001b[1;33m         \u001b[0moffspring\u001b[0m \u001b[1;33m=\u001b[0m \u001b[1;33m[\u001b[0m\u001b[0mswap_mutate\u001b[0m\u001b[1;33m(\u001b[0m\u001b[0md\u001b[0m\u001b[1;33m)\u001b[0m \u001b[1;32mif\u001b[0m \u001b[0mrandom\u001b[0m\u001b[1;33m.\u001b[0m\u001b[0mrandom\u001b[0m\u001b[1;33m(\u001b[0m\u001b[1;33m)\u001b[0m \u001b[1;33m<\u001b[0m \u001b[0mpm\u001b[0m \u001b[1;32melse\u001b[0m \u001b[0md\u001b[0m \u001b[1;32mfor\u001b[0m \u001b[0md\u001b[0m \u001b[1;32min\u001b[0m \u001b[0moffspring\u001b[0m\u001b[1;33m]\u001b[0m\u001b[1;33m\u001b[0m\u001b[1;33m\u001b[0m\u001b[0m\n\u001b[0m\u001b[0;32m     27\u001b[0m \u001b[1;33m\u001b[0m\u001b[0m\n\u001b[0;32m     28\u001b[0m         \u001b[1;31m# Sort and stats\u001b[0m\u001b[1;33m\u001b[0m\u001b[1;33m\u001b[0m\u001b[1;33m\u001b[0m\u001b[0m\n",
      "\u001b[1;32m<ipython-input-17-2e2eaa9cf61e>\u001b[0m in \u001b[0;36mswap_mutate\u001b[1;34m(district)\u001b[0m\n\u001b[0;32m      1\u001b[0m \u001b[1;32mdef\u001b[0m \u001b[0mswap_mutate\u001b[0m\u001b[1;33m(\u001b[0m\u001b[0mdistrict\u001b[0m\u001b[1;33m)\u001b[0m\u001b[1;33m:\u001b[0m\u001b[1;33m\u001b[0m\u001b[1;33m\u001b[0m\u001b[0m\n\u001b[1;32m----> 2\u001b[1;33m     \u001b[0md_list\u001b[0m \u001b[1;33m=\u001b[0m \u001b[0mflatten\u001b[0m\u001b[1;33m(\u001b[0m\u001b[0mdistrict\u001b[0m\u001b[1;33m)\u001b[0m\u001b[1;33m\u001b[0m\u001b[1;33m\u001b[0m\u001b[0m\n\u001b[0m\u001b[0;32m      3\u001b[0m \u001b[1;33m\u001b[0m\u001b[0m\n\u001b[0;32m      4\u001b[0m     \u001b[0mclub_index_1\u001b[0m \u001b[1;33m=\u001b[0m \u001b[0mrandom\u001b[0m\u001b[1;33m.\u001b[0m\u001b[0mrandint\u001b[0m\u001b[1;33m(\u001b[0m\u001b[1;36m0\u001b[0m\u001b[1;33m,\u001b[0m \u001b[0mlen\u001b[0m\u001b[1;33m(\u001b[0m\u001b[0md_list\u001b[0m\u001b[1;33m)\u001b[0m\u001b[1;33m)\u001b[0m\u001b[1;33m\u001b[0m\u001b[1;33m\u001b[0m\u001b[0m\n\u001b[0;32m      5\u001b[0m     \u001b[0mclub_index_2\u001b[0m \u001b[1;33m=\u001b[0m \u001b[0mrandom\u001b[0m\u001b[1;33m.\u001b[0m\u001b[0mrandint\u001b[0m\u001b[1;33m(\u001b[0m\u001b[1;36m0\u001b[0m\u001b[1;33m,\u001b[0m \u001b[0mlen\u001b[0m\u001b[1;33m(\u001b[0m\u001b[0md_list\u001b[0m\u001b[1;33m)\u001b[0m\u001b[1;33m)\u001b[0m\u001b[1;33m\u001b[0m\u001b[1;33m\u001b[0m\u001b[0m\n",
      "\u001b[1;32m<ipython-input-10-815e101b829b>\u001b[0m in \u001b[0;36mflatten\u001b[1;34m(district)\u001b[0m\n\u001b[0;32m      1\u001b[0m \u001b[1;32mdef\u001b[0m \u001b[0mflatten\u001b[0m\u001b[1;33m(\u001b[0m\u001b[0mdistrict\u001b[0m\u001b[1;33m)\u001b[0m\u001b[1;33m:\u001b[0m\u001b[1;33m\u001b[0m\u001b[1;33m\u001b[0m\u001b[0m\n\u001b[1;32m----> 2\u001b[1;33m     \u001b[1;32mreturn\u001b[0m \u001b[1;33m[\u001b[0m\u001b[0mclub\u001b[0m \u001b[1;32mfor\u001b[0m \u001b[0marea\u001b[0m \u001b[1;32min\u001b[0m \u001b[0mdistrict\u001b[0m \u001b[1;32mfor\u001b[0m \u001b[0mclub\u001b[0m \u001b[1;32min\u001b[0m \u001b[0marea\u001b[0m\u001b[1;33m]\u001b[0m\u001b[1;33m\u001b[0m\u001b[1;33m\u001b[0m\u001b[0m\n\u001b[0m\u001b[0;32m      3\u001b[0m \u001b[1;33m\u001b[0m\u001b[0m\n\u001b[0;32m      4\u001b[0m \u001b[1;31m# Regroup: list(group_areas(clubs_list))\u001b[0m\u001b[1;33m\u001b[0m\u001b[1;33m\u001b[0m\u001b[1;33m\u001b[0m\u001b[0m\n",
      "\u001b[1;32m<ipython-input-10-815e101b829b>\u001b[0m in \u001b[0;36m<listcomp>\u001b[1;34m(.0)\u001b[0m\n\u001b[0;32m      1\u001b[0m \u001b[1;32mdef\u001b[0m \u001b[0mflatten\u001b[0m\u001b[1;33m(\u001b[0m\u001b[0mdistrict\u001b[0m\u001b[1;33m)\u001b[0m\u001b[1;33m:\u001b[0m\u001b[1;33m\u001b[0m\u001b[1;33m\u001b[0m\u001b[0m\n\u001b[1;32m----> 2\u001b[1;33m     \u001b[1;32mreturn\u001b[0m \u001b[1;33m[\u001b[0m\u001b[0mclub\u001b[0m \u001b[1;32mfor\u001b[0m \u001b[0marea\u001b[0m \u001b[1;32min\u001b[0m \u001b[0mdistrict\u001b[0m \u001b[1;32mfor\u001b[0m \u001b[0mclub\u001b[0m \u001b[1;32min\u001b[0m \u001b[0marea\u001b[0m\u001b[1;33m]\u001b[0m\u001b[1;33m\u001b[0m\u001b[1;33m\u001b[0m\u001b[0m\n\u001b[0m\u001b[0;32m      3\u001b[0m \u001b[1;33m\u001b[0m\u001b[0m\n\u001b[0;32m      4\u001b[0m \u001b[1;31m# Regroup: list(group_areas(clubs_list))\u001b[0m\u001b[1;33m\u001b[0m\u001b[1;33m\u001b[0m\u001b[1;33m\u001b[0m\u001b[0m\n",
      "\u001b[1;31mTypeError\u001b[0m: 'int' object is not iterable"
     ]
    }
   ],
   "source": [
    "best, average, best_score, hof_list = ga()"
   ]
  },
  {
   "cell_type": "markdown",
   "metadata": {},
   "source": [
    "### Visualize Stats"
   ]
  },
  {
   "cell_type": "code",
   "execution_count": null,
   "metadata": {},
   "outputs": [],
   "source": [
    "sns.set_style(\"whitegrid\")\n",
    "plt.plot(minFitnessValues, color='red')\n",
    "plt.plot(meanFitnessValues, color='green')\n",
    "plt.xlabel('Generation')\n",
    "plt.ylabel('Min / Average Fitness')\n",
    "plt.title('Min and Average Fitness over Generations')\n",
    "plt.show()"
   ]
  },
  {
   "cell_type": "markdown",
   "metadata": {},
   "source": [
    "### Check Best Results"
   ]
  },
  {
   "cell_type": "code",
   "execution_count": null,
   "metadata": {},
   "outputs": [],
   "source": [
    "print(\"Hall of Fame Individuals = \", *hof.items, sep=\"\\n\")\n",
    "print(\"Best Ever Individual = \", hof.items[0])"
   ]
  },
  {
   "cell_type": "markdown",
   "metadata": {},
   "source": [
    "### Export Solution(s)"
   ]
  },
  {
   "cell_type": "code",
   "execution_count": null,
   "metadata": {},
   "outputs": [],
   "source": [
    "first_district = hof.items[0]\n",
    "second_district = hof.items[1]\n",
    "third_district = hof.items[2]"
   ]
  }
 ],
 "metadata": {
  "kernelspec": {
   "display_name": "Python 3",
   "language": "python",
   "name": "python3"
  },
  "language_info": {
   "codemirror_mode": {
    "name": "ipython",
    "version": 3
   },
   "file_extension": ".py",
   "mimetype": "text/x-python",
   "name": "python",
   "nbconvert_exporter": "python",
   "pygments_lexer": "ipython3",
   "version": "3.7.9"
  }
 },
 "nbformat": 4,
 "nbformat_minor": 4
}
