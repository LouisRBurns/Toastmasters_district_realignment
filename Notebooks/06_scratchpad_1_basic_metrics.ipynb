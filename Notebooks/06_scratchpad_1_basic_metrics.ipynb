{
 "cells": [
  {
   "cell_type": "markdown",
   "metadata": {},
   "source": [
    "# Scratch pad"
   ]
  },
  {
   "cell_type": "code",
   "execution_count": 1,
   "metadata": {},
   "outputs": [],
   "source": [
    "import numpy as np\n",
    "import pandas as pd\n",
    "import geopandas as gpd\n",
    "from itertools import combinations"
   ]
  },
  {
   "cell_type": "markdown",
   "metadata": {},
   "source": [
    "### Test summing the distance of clubs in an area\n",
    "Get the average normalized distance between every pair of clubs in an area."
   ]
  },
  {
   "cell_type": "code",
   "execution_count": 2,
   "metadata": {},
   "outputs": [
    {
     "data": {
      "text/html": [
       "<div>\n",
       "<style scoped>\n",
       "    .dataframe tbody tr th:only-of-type {\n",
       "        vertical-align: middle;\n",
       "    }\n",
       "\n",
       "    .dataframe tbody tr th {\n",
       "        vertical-align: top;\n",
       "    }\n",
       "\n",
       "    .dataframe thead th {\n",
       "        text-align: right;\n",
       "    }\n",
       "</style>\n",
       "<table border=\"1\" class=\"dataframe\">\n",
       "  <thead>\n",
       "    <tr style=\"text-align: right;\">\n",
       "      <th></th>\n",
       "      <th>5509</th>\n",
       "      <th>7036</th>\n",
       "      <th>9682</th>\n",
       "      <th>584009</th>\n",
       "      <th>1100434</th>\n",
       "      <th>718</th>\n",
       "      <th>4819</th>\n",
       "      <th>9790</th>\n",
       "      <th>5069647</th>\n",
       "      <th>7575630</th>\n",
       "      <th>...</th>\n",
       "      <th>1783</th>\n",
       "      <th>596735</th>\n",
       "      <th>4700632</th>\n",
       "      <th>5258000</th>\n",
       "      <th>2690</th>\n",
       "      <th>8569</th>\n",
       "      <th>3929213</th>\n",
       "      <th>4822437</th>\n",
       "      <th>5569</th>\n",
       "      <th>1565753</th>\n",
       "    </tr>\n",
       "    <tr>\n",
       "      <th>club_no</th>\n",
       "      <th></th>\n",
       "      <th></th>\n",
       "      <th></th>\n",
       "      <th></th>\n",
       "      <th></th>\n",
       "      <th></th>\n",
       "      <th></th>\n",
       "      <th></th>\n",
       "      <th></th>\n",
       "      <th></th>\n",
       "      <th></th>\n",
       "      <th></th>\n",
       "      <th></th>\n",
       "      <th></th>\n",
       "      <th></th>\n",
       "      <th></th>\n",
       "      <th></th>\n",
       "      <th></th>\n",
       "      <th></th>\n",
       "      <th></th>\n",
       "      <th></th>\n",
       "    </tr>\n",
       "  </thead>\n",
       "  <tbody>\n",
       "    <tr>\n",
       "      <th>5509</th>\n",
       "      <td>0.000000</td>\n",
       "      <td>0.000000</td>\n",
       "      <td>0.309451</td>\n",
       "      <td>0.315310</td>\n",
       "      <td>0.000000</td>\n",
       "      <td>0.309451</td>\n",
       "      <td>0.338685</td>\n",
       "      <td>0.297754</td>\n",
       "      <td>0.347098</td>\n",
       "      <td>0.311623</td>\n",
       "      <td>...</td>\n",
       "      <td>0.752496</td>\n",
       "      <td>0.737553</td>\n",
       "      <td>0.748308</td>\n",
       "      <td>0.748308</td>\n",
       "      <td>0.748079</td>\n",
       "      <td>0.748308</td>\n",
       "      <td>0.748308</td>\n",
       "      <td>0.749572</td>\n",
       "      <td>0.748308</td>\n",
       "      <td>0.748308</td>\n",
       "    </tr>\n",
       "    <tr>\n",
       "      <th>7036</th>\n",
       "      <td>0.000000</td>\n",
       "      <td>0.000000</td>\n",
       "      <td>0.309451</td>\n",
       "      <td>0.315310</td>\n",
       "      <td>0.000000</td>\n",
       "      <td>0.309451</td>\n",
       "      <td>0.338685</td>\n",
       "      <td>0.297754</td>\n",
       "      <td>0.347098</td>\n",
       "      <td>0.311623</td>\n",
       "      <td>...</td>\n",
       "      <td>0.752496</td>\n",
       "      <td>0.737553</td>\n",
       "      <td>0.748308</td>\n",
       "      <td>0.748308</td>\n",
       "      <td>0.748079</td>\n",
       "      <td>0.748308</td>\n",
       "      <td>0.748308</td>\n",
       "      <td>0.749572</td>\n",
       "      <td>0.748308</td>\n",
       "      <td>0.748308</td>\n",
       "    </tr>\n",
       "    <tr>\n",
       "      <th>9682</th>\n",
       "      <td>0.360002</td>\n",
       "      <td>0.360002</td>\n",
       "      <td>0.000000</td>\n",
       "      <td>0.033326</td>\n",
       "      <td>0.360002</td>\n",
       "      <td>0.000000</td>\n",
       "      <td>0.035332</td>\n",
       "      <td>0.024728</td>\n",
       "      <td>0.100703</td>\n",
       "      <td>0.011137</td>\n",
       "      <td>...</td>\n",
       "      <td>0.896155</td>\n",
       "      <td>0.892741</td>\n",
       "      <td>0.894353</td>\n",
       "      <td>0.894353</td>\n",
       "      <td>0.893528</td>\n",
       "      <td>0.894353</td>\n",
       "      <td>0.894353</td>\n",
       "      <td>0.895944</td>\n",
       "      <td>0.894353</td>\n",
       "      <td>0.894353</td>\n",
       "    </tr>\n",
       "    <tr>\n",
       "      <th>584009</th>\n",
       "      <td>0.378986</td>\n",
       "      <td>0.378986</td>\n",
       "      <td>0.034432</td>\n",
       "      <td>0.000000</td>\n",
       "      <td>0.378986</td>\n",
       "      <td>0.034432</td>\n",
       "      <td>0.047424</td>\n",
       "      <td>0.024879</td>\n",
       "      <td>0.070442</td>\n",
       "      <td>0.045275</td>\n",
       "      <td>...</td>\n",
       "      <td>0.927359</td>\n",
       "      <td>0.924798</td>\n",
       "      <td>0.926084</td>\n",
       "      <td>0.926084</td>\n",
       "      <td>0.925535</td>\n",
       "      <td>0.926084</td>\n",
       "      <td>0.926084</td>\n",
       "      <td>0.927159</td>\n",
       "      <td>0.926084</td>\n",
       "      <td>0.926084</td>\n",
       "    </tr>\n",
       "    <tr>\n",
       "      <th>1100434</th>\n",
       "      <td>0.000000</td>\n",
       "      <td>0.000000</td>\n",
       "      <td>0.309451</td>\n",
       "      <td>0.315310</td>\n",
       "      <td>0.000000</td>\n",
       "      <td>0.309451</td>\n",
       "      <td>0.338685</td>\n",
       "      <td>0.297754</td>\n",
       "      <td>0.347098</td>\n",
       "      <td>0.311623</td>\n",
       "      <td>...</td>\n",
       "      <td>0.752496</td>\n",
       "      <td>0.737553</td>\n",
       "      <td>0.748308</td>\n",
       "      <td>0.748308</td>\n",
       "      <td>0.748079</td>\n",
       "      <td>0.748308</td>\n",
       "      <td>0.748308</td>\n",
       "      <td>0.749572</td>\n",
       "      <td>0.748308</td>\n",
       "      <td>0.748308</td>\n",
       "    </tr>\n",
       "  </tbody>\n",
       "</table>\n",
       "<p>5 rows × 168 columns</p>\n",
       "</div>"
      ],
      "text/plain": [
       "          5509      7036      9682      584009    1100434   718       4819     \\\n",
       "club_no                                                                         \n",
       "5509     0.000000  0.000000  0.309451  0.315310  0.000000  0.309451  0.338685   \n",
       "7036     0.000000  0.000000  0.309451  0.315310  0.000000  0.309451  0.338685   \n",
       "9682     0.360002  0.360002  0.000000  0.033326  0.360002  0.000000  0.035332   \n",
       "584009   0.378986  0.378986  0.034432  0.000000  0.378986  0.034432  0.047424   \n",
       "1100434  0.000000  0.000000  0.309451  0.315310  0.000000  0.309451  0.338685   \n",
       "\n",
       "          9790      5069647   7575630  ...   1783      596735    4700632  \\\n",
       "club_no                                ...                                 \n",
       "5509     0.297754  0.347098  0.311623  ...  0.752496  0.737553  0.748308   \n",
       "7036     0.297754  0.347098  0.311623  ...  0.752496  0.737553  0.748308   \n",
       "9682     0.024728  0.100703  0.011137  ...  0.896155  0.892741  0.894353   \n",
       "584009   0.024879  0.070442  0.045275  ...  0.927359  0.924798  0.926084   \n",
       "1100434  0.297754  0.347098  0.311623  ...  0.752496  0.737553  0.748308   \n",
       "\n",
       "          5258000   2690      8569      3929213   4822437   5569      1565753  \n",
       "club_no                                                                        \n",
       "5509     0.748308  0.748079  0.748308  0.748308  0.749572  0.748308  0.748308  \n",
       "7036     0.748308  0.748079  0.748308  0.748308  0.749572  0.748308  0.748308  \n",
       "9682     0.894353  0.893528  0.894353  0.894353  0.895944  0.894353  0.894353  \n",
       "584009   0.926084  0.925535  0.926084  0.926084  0.927159  0.926084  0.926084  \n",
       "1100434  0.748308  0.748079  0.748308  0.748308  0.749572  0.748308  0.748308  \n",
       "\n",
       "[5 rows x 168 columns]"
      ]
     },
     "execution_count": 2,
     "metadata": {},
     "output_type": "execute_result"
    }
   ],
   "source": [
    "dist = pd.read_csv('club_distance_matrix.csv')\n",
    "dist.set_index('club_no', inplace=True)\n",
    "# Make sure the columns are integers too\n",
    "dist.columns = dist.columns.astype(int)\n",
    "dist.head()"
   ]
  },
  {
   "cell_type": "code",
   "execution_count": 3,
   "metadata": {},
   "outputs": [
    {
     "data": {
      "text/plain": [
       "0.3094514953565958"
      ]
     },
     "execution_count": 3,
     "metadata": {},
     "output_type": "execute_result"
    }
   ],
   "source": [
    "# Get the distance between two clubs\n",
    "dist.loc[(5509, 9682)]"
   ]
  },
  {
   "cell_type": "code",
   "execution_count": 4,
   "metadata": {},
   "outputs": [
    {
     "data": {
      "text/plain": [
       "[(5509, 9682),\n",
       " (5509, 584009),\n",
       " (5509, 718),\n",
       " (9682, 584009),\n",
       " (9682, 718),\n",
       " (584009, 718)]"
      ]
     },
     "execution_count": 4,
     "metadata": {},
     "output_type": "execute_result"
    }
   ],
   "source": [
    "# Hypothetical area of four clubs by club number\n",
    "area1 = [5509, 9682, 584009, 718]\n",
    "list(combinations(area1, 2))"
   ]
  },
  {
   "cell_type": "code",
   "execution_count": 5,
   "metadata": {},
   "outputs": [
    {
     "data": {
      "text/plain": [
       "0.25049283527727934"
      ]
     },
     "execution_count": 5,
     "metadata": {},
     "output_type": "execute_result"
    }
   ],
   "source": [
    "# Write a function that returns the average distances between clubs in an area\n",
    "def area_dist(clubs, distance_matrix):\n",
    "    return sum([distance_matrix.loc[pair] for pair in list(combinations(clubs, 2))]) / len(clubs)\n",
    "\n",
    "area_dist(area1, dist)"
   ]
  },
  {
   "cell_type": "markdown",
   "metadata": {},
   "source": [
    "### Test club quality distribution"
   ]
  },
  {
   "cell_type": "code",
   "execution_count": 7,
   "metadata": {},
   "outputs": [],
   "source": [
    "ideal = [0.0, 0.25, 0.5, 0.75, 1.0]\n",
    "alt1 = [0.0, 0.0, 0.5, 1.0, 1.0]\n",
    "alt2 = [0.0, 0.5, 0.5, 0.5, 1.0]\n",
    "alt3 = [0.0, 1.0]\n",
    "alt4 = [1.0, 1.0]\n",
    "alt5 = [0.0, 0.33, 0.67, 1.0]\n",
    "alt6 = [0.1, 0.35, 0.6, 0.85, 1.0]"
   ]
  },
  {
   "cell_type": "code",
   "execution_count": 8,
   "metadata": {},
   "outputs": [
    {
     "name": "stdout",
     "output_type": "stream",
     "text": [
      "Ideal: 0.3535533905932738\n",
      "Alt 1: 0.4472135954999579\n",
      "Alt 2: 0.31622776601683794\n",
      "Alt 3: 0.5\n",
      "Alt 4: 0.0\n",
      "Alt 5: 0.37343004699675686\n",
      "Alt 6: 0.32649655434629016\n"
     ]
    }
   ],
   "source": [
    "print(f'Ideal: {np.std(ideal)}')\n",
    "print(f'Alt 1: {np.std(alt1)}')\n",
    "print(f'Alt 2: {np.std(alt2)}')\n",
    "print(f'Alt 3: {np.std(alt3)}')\n",
    "print(f'Alt 4: {np.std(alt4)}')\n",
    "print(f'Alt 5: {np.std(alt5)}')\n",
    "print(f'Alt 6: {np.std(alt6)}')"
   ]
  },
  {
   "cell_type": "markdown",
   "metadata": {},
   "source": [
    "### Test setting up an initial population"
   ]
  },
  {
   "cell_type": "code",
   "execution_count": 9,
   "metadata": {},
   "outputs": [
    {
     "data": {
      "text/html": [
       "<div>\n",
       "<style scoped>\n",
       "    .dataframe tbody tr th:only-of-type {\n",
       "        vertical-align: middle;\n",
       "    }\n",
       "\n",
       "    .dataframe tbody tr th {\n",
       "        vertical-align: top;\n",
       "    }\n",
       "\n",
       "    .dataframe thead th {\n",
       "        text-align: right;\n",
       "    }\n",
       "</style>\n",
       "<table border=\"1\" class=\"dataframe\">\n",
       "  <thead>\n",
       "    <tr style=\"text-align: right;\">\n",
       "      <th></th>\n",
       "      <th>club_no</th>\n",
       "      <th>n_quality</th>\n",
       "    </tr>\n",
       "  </thead>\n",
       "  <tbody>\n",
       "    <tr>\n",
       "      <th>0</th>\n",
       "      <td>5509</td>\n",
       "      <td>0.677709</td>\n",
       "    </tr>\n",
       "    <tr>\n",
       "      <th>1</th>\n",
       "      <td>7036</td>\n",
       "      <td>0.695792</td>\n",
       "    </tr>\n",
       "    <tr>\n",
       "      <th>2</th>\n",
       "      <td>9682</td>\n",
       "      <td>0.614715</td>\n",
       "    </tr>\n",
       "    <tr>\n",
       "      <th>3</th>\n",
       "      <td>584009</td>\n",
       "      <td>0.475900</td>\n",
       "    </tr>\n",
       "    <tr>\n",
       "      <th>4</th>\n",
       "      <td>1100434</td>\n",
       "      <td>0.768516</td>\n",
       "    </tr>\n",
       "  </tbody>\n",
       "</table>\n",
       "</div>"
      ],
      "text/plain": [
       "   club_no  n_quality\n",
       "0     5509   0.677709\n",
       "1     7036   0.695792\n",
       "2     9682   0.614715\n",
       "3   584009   0.475900\n",
       "4  1100434   0.768516"
      ]
     },
     "execution_count": 9,
     "metadata": {},
     "output_type": "execute_result"
    }
   ],
   "source": [
    "clubs = pd.read_csv('clubs_to_realign.csv')\n",
    "clubs.head()"
   ]
  },
  {
   "cell_type": "code",
   "execution_count": 10,
   "metadata": {},
   "outputs": [
    {
     "data": {
      "text/plain": [
       "33.6"
      ]
     },
     "execution_count": 10,
     "metadata": {},
     "output_type": "execute_result"
    }
   ],
   "source": [
    "len(clubs)/5"
   ]
  },
  {
   "cell_type": "code",
   "execution_count": 11,
   "metadata": {},
   "outputs": [
    {
     "data": {
      "text/plain": [
       "[[5509, 7036, 9682, 584009, 1100434],\n",
       " [718, 4819, 9790, 5069647, 7575630],\n",
       " [2427, 1171849, 4801055, 7463287, 4154],\n",
       " [7817, 7881, 1412885, 7031829, 4182],\n",
       " [9354, 1526701, 1535564, 9469, 9598],\n",
       " [607240, 3812934, 4095, 942489, 1581643],\n",
       " [6891000, 3074518, 3408653, 5112712, 5042512],\n",
       " [5553533, 7022029, 7479372, 7554675, 4015],\n",
       " [730163, 1463775, 2556863, 7274, 8363],\n",
       " [1165752, 3240871, 6071, 1595518, 6754191],\n",
       " [6970706, 5869106, 6644914, 6887806, 713],\n",
       " [1190, 3549, 6975086, 7384295, 2364],\n",
       " [4108, 4110, 8412, 2912, 1176566],\n",
       " [8041, 8631, 2876291, 8552, 1588444],\n",
       " [4718634, 1171779, 6613239, 1291183, 2923054],\n",
       " [7532701, 6380, 7533, 9161, 7327347],\n",
       " [6523, 1047602, 6990556, 1331602, 1995527],\n",
       " [4750107, 5736, 630505, 3356972, 3372438],\n",
       " [4721, 695532, 845547, 1207, 6142],\n",
       " [6654663, 5055, 1176575, 2189079, 7306126],\n",
       " [4858, 5928, 9019, 5918, 8941],\n",
       " [1408278, 3063370, 7402713, 437, 584516],\n",
       " [4157985, 7479409, 6661, 3395235, 3401898],\n",
       " [8853, 583467, 2038660, 3431353, 6590],\n",
       " [7452, 953233, 5859633, 3318, 4533],\n",
       " [614471, 4918271, 5981, 8952, 1158551],\n",
       " [5674, 997315, 1036600, 1244830, 1582927],\n",
       " [6632930, 967, 4107, 7059, 7587],\n",
       " [8169, 5545568, 6861322, 6786, 4786679],\n",
       " [6715494, 7034388, 2808, 3761504, 4793192],\n",
       " [8983, 9214, 992874, 6820584, 2146],\n",
       " [3859, 4446, 9872, 1783, 596735],\n",
       " [4700632, 5258000, 2690, 8569, 3929213],\n",
       " [4822437, 5569, 1565753]]"
      ]
     },
     "execution_count": 11,
     "metadata": {},
     "output_type": "execute_result"
    }
   ],
   "source": [
    "def chunks(clubs, n):\n",
    "    \"\"\"Yield successive n-sized chunks from l.\"\"\"\n",
    "    for i in range(0, len(clubs), n):\n",
    "        yield clubs[i:i + n]\n",
    "\n",
    "list(chunks(list(clubs['club_no']), 5))"
   ]
  },
  {
   "cell_type": "markdown",
   "metadata": {},
   "source": [
    "### Make some sample districts\n",
    "Make dummy districts with odd numbers to test having 1, 2, or 3 clubs left at the end of grouping. Use existing club data for the scores."
   ]
  },
  {
   "cell_type": "code",
   "execution_count": 24,
   "metadata": {},
   "outputs": [
    {
     "data": {
      "text/plain": [
       "159"
      ]
     },
     "execution_count": 24,
     "metadata": {},
     "output_type": "execute_result"
    }
   ],
   "source": [
    "# Make a list of club numbers\n",
    "not_club_no = pd.DataFrame(range(1, 160))\n",
    "not_club_no['quality'] = clubs['n_quality'].copy()\n",
    "not_club_no.rename(columns = {0: 'club_no'}, inplace=True)\n",
    "len(not_club_no)"
   ]
  },
  {
   "cell_type": "code",
   "execution_count": 26,
   "metadata": {},
   "outputs": [
    {
     "data": {
      "text/plain": [
       "3"
      ]
     },
     "execution_count": 26,
     "metadata": {},
     "output_type": "execute_result"
    }
   ],
   "source": [
    "d_3_left = not_club_no[:158].copy()\n",
    "len(d_3_left) % 5"
   ]
  },
  {
   "cell_type": "code",
   "execution_count": 27,
   "metadata": {},
   "outputs": [
    {
     "data": {
      "text/plain": [
       "2"
      ]
     },
     "execution_count": 27,
     "metadata": {},
     "output_type": "execute_result"
    }
   ],
   "source": [
    "d_2_left = not_club_no[:157].copy()\n",
    "len(d_2_left) % 5"
   ]
  },
  {
   "cell_type": "code",
   "execution_count": 28,
   "metadata": {},
   "outputs": [
    {
     "data": {
      "text/plain": [
       "1"
      ]
     },
     "execution_count": 28,
     "metadata": {},
     "output_type": "execute_result"
    }
   ],
   "source": [
    "d_1_left = not_club_no[:156].copy()\n",
    "len(d_1_left) % 5"
   ]
  },
  {
   "cell_type": "code",
   "execution_count": 32,
   "metadata": {},
   "outputs": [
    {
     "data": {
      "text/plain": [
       "0"
      ]
     },
     "execution_count": 32,
     "metadata": {},
     "output_type": "execute_result"
    }
   ],
   "source": [
    "d0 = not_club_no[:155].copy()\n",
    "len(d0) % 5"
   ]
  },
  {
   "cell_type": "markdown",
   "metadata": {},
   "source": [
    "Save these"
   ]
  },
  {
   "cell_type": "code",
   "execution_count": 33,
   "metadata": {},
   "outputs": [],
   "source": [
    "d_3_left.to_csv('d3.csv', index=False)\n",
    "d_2_left.to_csv('d2.csv', index=False)\n",
    "d_1_left.to_csv('d1.csv', index=False)\n",
    "d0.to_csv('d0.csv', index=False)"
   ]
  },
  {
   "cell_type": "markdown",
   "metadata": {},
   "source": [
    "### Testing list structures\n",
    "I seem to be having an issue with passing a list of lists when the toolbox wants to create additional nested lists."
   ]
  },
  {
   "cell_type": "code",
   "execution_count": 4,
   "metadata": {},
   "outputs": [
    {
     "name": "stdout",
     "output_type": "stream",
     "text": [
      "1\n",
      "2\n",
      "3\n",
      "4\n"
     ]
    }
   ],
   "source": [
    "l1 = [1, 2, 3, 4]\n",
    "for x in l1:\n",
    "    print(x)"
   ]
  },
  {
   "cell_type": "code",
   "execution_count": 5,
   "metadata": {},
   "outputs": [
    {
     "data": {
      "text/plain": [
       "(1, 2, 3, 4)"
      ]
     },
     "execution_count": 5,
     "metadata": {},
     "output_type": "execute_result"
    }
   ],
   "source": [
    "1, 2, 3, 4"
   ]
  },
  {
   "cell_type": "code",
   "execution_count": 9,
   "metadata": {},
   "outputs": [
    {
     "data": {
      "text/plain": [
       "(1, 2, 3, 4)"
      ]
     },
     "execution_count": 9,
     "metadata": {},
     "output_type": "execute_result"
    }
   ],
   "source": [
    "tuple(list(tuple((1, 2, 3, 4))))"
   ]
  },
  {
   "cell_type": "code",
   "execution_count": 10,
   "metadata": {},
   "outputs": [
    {
     "data": {
      "text/plain": [
       "([1, 2, 3], [4, 5, 6])"
      ]
     },
     "execution_count": 10,
     "metadata": {},
     "output_type": "execute_result"
    }
   ],
   "source": [
    "[1, 2, 3], [4, 5, 6]"
   ]
  },
  {
   "cell_type": "code",
   "execution_count": null,
   "metadata": {},
   "outputs": [],
   "source": []
  }
 ],
 "metadata": {
  "kernelspec": {
   "display_name": "Python 3",
   "language": "python",
   "name": "python3"
  },
  "language_info": {
   "codemirror_mode": {
    "name": "ipython",
    "version": 3
   },
   "file_extension": ".py",
   "mimetype": "text/x-python",
   "name": "python",
   "nbconvert_exporter": "python",
   "pygments_lexer": "ipython3",
   "version": "3.7.9"
  }
 },
 "nbformat": 4,
 "nbformat_minor": 4
}
