{
 "cells": [
  {
   "cell_type": "markdown",
   "metadata": {},
   "source": [
    "# Club Geocoding"
   ]
  },
  {
   "cell_type": "markdown",
   "metadata": {},
   "source": [
    "This notebook is to begin clean the district club data for use in a district realignment using a genetic algorithm.\n",
    "\n",
    "The columns that I'll need are `club number, zipcode, current area, members, new members, and member awards`. Member awards are not available directly but can be copy/pasted from the relevant report.\n",
    "\n",
    "The columns I'll need to calculate are `lat/long, awards/member, new/renewing member ratio, and normalized versions of those` and members. \n",
    "\n",
    "A consideration is that membership and awards can change on a weekly basis.\n",
    "\n",
    "Additionally, DCP goals are typically used as a group balancing criterion. I'm opting to focus on membership, awards, and opportunities which I believe better reflect club health. \n",
    "\n",
    "I'll need to manually fill in information for newly chartered clubs prior to importing them.\n",
    "\n",
    "In this notebook, we'll just focus on getting the lat/long."
   ]
  },
  {
   "cell_type": "code",
   "execution_count": 1,
   "metadata": {},
   "outputs": [],
   "source": [
    "import pandas as pd\n",
    "import zipcodes"
   ]
  },
  {
   "cell_type": "markdown",
   "metadata": {},
   "source": [
    "### Get the zip codes"
   ]
  },
  {
   "cell_type": "code",
   "execution_count": 2,
   "metadata": {},
   "outputs": [
    {
     "name": "stdout",
     "output_type": "stream",
     "text": [
      "<class 'pandas.core.frame.DataFrame'>\n",
      "RangeIndex: 287 entries, 0 to 286\n",
      "Data columns (total 23 columns):\n",
      " #   Column        Non-Null Count  Dtype  \n",
      "---  ------        --------------  -----  \n",
      " 0   District      206 non-null    float64\n",
      " 1   Division      261 non-null    object \n",
      " 2   Area          261 non-null    float64\n",
      " 3   Club          221 non-null    float64\n",
      " 4   Clubname      224 non-null    object \n",
      " 5   Clubest       221 non-null    object \n",
      " 6   Clubstatus    221 non-null    object \n",
      " 7   DCP           0 non-null      float64\n",
      " 8   Members       0 non-null      float64\n",
      " 9   Clubcity      221 non-null    object \n",
      " 10  Clubstate     221 non-null    object \n",
      " 11  Clubzip       221 non-null    object \n",
      " 12  Clubcountry   221 non-null    object \n",
      " 13  Clubphone     198 non-null    object \n",
      " 14  Clubday_o     221 non-null    object \n",
      " 15  Clubtime_o    221 non-null    object \n",
      " 16  Clubday       219 non-null    object \n",
      " 17  Clubtime      221 non-null    object \n",
      " 18  Clublen       221 non-null    float64\n",
      " 19  Clubfreq      221 non-null    object \n",
      " 20  Clubopen      221 non-null    object \n",
      " 21  Clubadvanced  13 non-null     object \n",
      " 22  Notes:        1 non-null      object \n",
      "dtypes: float64(6), object(17)\n",
      "memory usage: 51.7+ KB\n"
     ]
    }
   ],
   "source": [
    "# This csv has zip codes in it.\n",
    "# It also had extra lines in the original Excel file\n",
    "\n",
    "clubs_raw_zip = pd.read_csv('Clubs_D50.csv')\n",
    "clubs_raw_zip.info()"
   ]
  },
  {
   "cell_type": "code",
   "execution_count": 3,
   "metadata": {},
   "outputs": [
    {
     "data": {
      "text/html": [
       "<div>\n",
       "<style scoped>\n",
       "    .dataframe tbody tr th:only-of-type {\n",
       "        vertical-align: middle;\n",
       "    }\n",
       "\n",
       "    .dataframe tbody tr th {\n",
       "        vertical-align: top;\n",
       "    }\n",
       "\n",
       "    .dataframe thead th {\n",
       "        text-align: right;\n",
       "    }\n",
       "</style>\n",
       "<table border=\"1\" class=\"dataframe\">\n",
       "  <thead>\n",
       "    <tr style=\"text-align: right;\">\n",
       "      <th></th>\n",
       "      <th>club_no</th>\n",
       "      <th>zip</th>\n",
       "    </tr>\n",
       "  </thead>\n",
       "  <tbody>\n",
       "    <tr>\n",
       "      <th>0</th>\n",
       "      <td>5509</td>\n",
       "      <td>75501</td>\n",
       "    </tr>\n",
       "    <tr>\n",
       "      <th>1</th>\n",
       "      <td>7036</td>\n",
       "      <td>75501</td>\n",
       "    </tr>\n",
       "    <tr>\n",
       "      <th>2</th>\n",
       "      <td>584009</td>\n",
       "      <td>71110</td>\n",
       "    </tr>\n",
       "    <tr>\n",
       "      <th>3</th>\n",
       "      <td>9682</td>\n",
       "      <td>71101</td>\n",
       "    </tr>\n",
       "    <tr>\n",
       "      <th>4</th>\n",
       "      <td>1100434</td>\n",
       "      <td>75501-6314</td>\n",
       "    </tr>\n",
       "  </tbody>\n",
       "</table>\n",
       "</div>"
      ],
      "text/plain": [
       "   club_no         zip\n",
       "0     5509       75501\n",
       "1     7036       75501\n",
       "2   584009       71110\n",
       "3     9682       71101\n",
       "4  1100434  75501-6314"
      ]
     },
     "execution_count": 3,
     "metadata": {},
     "output_type": "execute_result"
    }
   ],
   "source": [
    "# Make a new dataframe with just the club number, zip code, and drop the blank lines\n",
    "club_zip = clubs_raw_zip[['Club', 'Clubzip']].copy().dropna()\n",
    "\n",
    "# Make the club number an integer\n",
    "club_zip['Club'] = club_zip['Club'].astype(int)\n",
    "\n",
    "# Rename the columns\n",
    "club_zip = club_zip.rename(columns = {'Club': 'club_no', 'Clubzip': 'zip'})\n",
    "\n",
    "club_zip.head()"
   ]
  },
  {
   "cell_type": "code",
   "execution_count": 4,
   "metadata": {},
   "outputs": [
    {
     "name": "stdout",
     "output_type": "stream",
     "text": [
      "<class 'pandas.core.frame.DataFrame'>\n",
      "Int64Index: 221 entries, 0 to 282\n",
      "Data columns (total 2 columns):\n",
      " #   Column   Non-Null Count  Dtype \n",
      "---  ------   --------------  ----- \n",
      " 0   club_no  221 non-null    int32 \n",
      " 1   zip      221 non-null    object\n",
      "dtypes: int32(1), object(1)\n",
      "memory usage: 4.3+ KB\n"
     ]
    }
   ],
   "source": [
    "club_zip.info()"
   ]
  },
  {
   "cell_type": "markdown",
   "metadata": {},
   "source": [
    "### Get the lat/long for the zip codes"
   ]
  },
  {
   "cell_type": "code",
   "execution_count": 5,
   "metadata": {},
   "outputs": [
    {
     "data": {
      "text/html": [
       "<div>\n",
       "<style scoped>\n",
       "    .dataframe tbody tr th:only-of-type {\n",
       "        vertical-align: middle;\n",
       "    }\n",
       "\n",
       "    .dataframe tbody tr th {\n",
       "        vertical-align: top;\n",
       "    }\n",
       "\n",
       "    .dataframe thead th {\n",
       "        text-align: right;\n",
       "    }\n",
       "</style>\n",
       "<table border=\"1\" class=\"dataframe\">\n",
       "  <thead>\n",
       "    <tr style=\"text-align: right;\">\n",
       "      <th></th>\n",
       "      <th>club_no</th>\n",
       "      <th>zip</th>\n",
       "      <th>lat</th>\n",
       "      <th>long</th>\n",
       "    </tr>\n",
       "  </thead>\n",
       "  <tbody>\n",
       "    <tr>\n",
       "      <th>0</th>\n",
       "      <td>5509</td>\n",
       "      <td>75501</td>\n",
       "      <td>33.3672</td>\n",
       "      <td>-94.2356</td>\n",
       "    </tr>\n",
       "    <tr>\n",
       "      <th>1</th>\n",
       "      <td>7036</td>\n",
       "      <td>75501</td>\n",
       "      <td>33.3672</td>\n",
       "      <td>-94.2356</td>\n",
       "    </tr>\n",
       "    <tr>\n",
       "      <th>2</th>\n",
       "      <td>584009</td>\n",
       "      <td>71110</td>\n",
       "      <td>32.5153</td>\n",
       "      <td>-93.6345</td>\n",
       "    </tr>\n",
       "    <tr>\n",
       "      <th>3</th>\n",
       "      <td>9682</td>\n",
       "      <td>71101</td>\n",
       "      <td>32.5072</td>\n",
       "      <td>-93.7444</td>\n",
       "    </tr>\n",
       "    <tr>\n",
       "      <th>4</th>\n",
       "      <td>1100434</td>\n",
       "      <td>75501-6314</td>\n",
       "      <td>33.3672</td>\n",
       "      <td>-94.2356</td>\n",
       "    </tr>\n",
       "    <tr>\n",
       "      <th>6</th>\n",
       "      <td>718</td>\n",
       "      <td>71101</td>\n",
       "      <td>32.5072</td>\n",
       "      <td>-93.7444</td>\n",
       "    </tr>\n",
       "    <tr>\n",
       "      <th>7</th>\n",
       "      <td>4819</td>\n",
       "      <td>71106</td>\n",
       "      <td>32.3938</td>\n",
       "      <td>-93.7286</td>\n",
       "    </tr>\n",
       "    <tr>\n",
       "      <th>8</th>\n",
       "      <td>9790</td>\n",
       "      <td>71111</td>\n",
       "      <td>32.5695</td>\n",
       "      <td>-93.6941</td>\n",
       "    </tr>\n",
       "    <tr>\n",
       "      <th>9</th>\n",
       "      <td>5069647</td>\n",
       "      <td>71023</td>\n",
       "      <td>32.4692</td>\n",
       "      <td>-93.3882</td>\n",
       "    </tr>\n",
       "    <tr>\n",
       "      <th>10</th>\n",
       "      <td>7575630</td>\n",
       "      <td>71103-4228</td>\n",
       "      <td>32.4918</td>\n",
       "      <td>-93.7762</td>\n",
       "    </tr>\n",
       "  </tbody>\n",
       "</table>\n",
       "</div>"
      ],
      "text/plain": [
       "    club_no         zip      lat      long\n",
       "0      5509       75501  33.3672  -94.2356\n",
       "1      7036       75501  33.3672  -94.2356\n",
       "2    584009       71110  32.5153  -93.6345\n",
       "3      9682       71101  32.5072  -93.7444\n",
       "4   1100434  75501-6314  33.3672  -94.2356\n",
       "6       718       71101  32.5072  -93.7444\n",
       "7      4819       71106  32.3938  -93.7286\n",
       "8      9790       71111  32.5695  -93.6941\n",
       "9   5069647       71023  32.4692  -93.3882\n",
       "10  7575630  71103-4228  32.4918  -93.7762"
      ]
     },
     "execution_count": 5,
     "metadata": {},
     "output_type": "execute_result"
    }
   ],
   "source": [
    "# Using zipcodes matching function\n",
    "# See https://pypi.org/project/zipcodes/ for documentation\n",
    "club_zip['lat'] = [zipcodes.matching(i)[0]['lat'] for i in club_zip['zip']]\n",
    "club_zip['long'] = [zipcodes.matching(i)[0]['long'] for i in club_zip['zip']]\n",
    "club_zip.head(10)"
   ]
  },
  {
   "cell_type": "code",
   "execution_count": 6,
   "metadata": {},
   "outputs": [],
   "source": [
    "# Convert coordinates to numbers\n",
    "club_zip['long'] = club_zip['long'].astype(float)\n",
    "club_zip['lat'] = club_zip['lat'].astype(float)"
   ]
  },
  {
   "cell_type": "code",
   "execution_count": 7,
   "metadata": {},
   "outputs": [],
   "source": [
    "# Save it for later import\n",
    "club_zip.to_csv('club_zips.csv', index=False)"
   ]
  },
  {
   "cell_type": "code",
   "execution_count": 8,
   "metadata": {},
   "outputs": [
    {
     "data": {
      "image/png": "[encoded data removed]",
      "text/plain": [
       "<Figure size 432x288 with 1 Axes>"
      ]
     },
     "metadata": {
      "needs_background": "light"
     },
     "output_type": "display_data"
    }
   ],
   "source": [
    "# Plot it just for giggles\n",
    "# FYI, this is the eastern half of DFW and outlying areas\n",
    "club_zip.plot(x='long', y='lat', kind='scatter');"
   ]
  }
 ],
 "metadata": {
  "kernelspec": {
   "display_name": "Python 3",
   "language": "python",
   "name": "python3"
  },
  "language_info": {
   "codemirror_mode": {
    "name": "ipython",
    "version": 3
   },
   "file_extension": ".py",
   "mimetype": "text/x-python",
   "name": "python",
   "nbconvert_exporter": "python",
   "pygments_lexer": "ipython3",
   "version": "3.7.9"
  }
 },
 "nbformat": 4,
 "nbformat_minor": 4
}
