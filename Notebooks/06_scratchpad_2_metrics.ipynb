{
 "cells": [
  {
   "cell_type": "code",
   "execution_count": 1,
   "metadata": {},
   "outputs": [],
   "source": [
    "import numpy as np\n",
    "import pandas as pd\n",
    "import pickle\n",
    "from sklearn.preprocessing import MinMaxScaler \n",
    "import math\n",
    "from itertools import combinations\n",
    "from scipy.spatial import ConvexHull"
   ]
  },
  {
   "cell_type": "code",
   "execution_count": 2,
   "metadata": {},
   "outputs": [
    {
     "data": {
      "text/html": [
       "<div>\n",
       "<style scoped>\n",
       "    .dataframe tbody tr th:only-of-type {\n",
       "        vertical-align: middle;\n",
       "    }\n",
       "\n",
       "    .dataframe tbody tr th {\n",
       "        vertical-align: top;\n",
       "    }\n",
       "\n",
       "    .dataframe thead th {\n",
       "        text-align: right;\n",
       "    }\n",
       "</style>\n",
       "<table border=\"1\" class=\"dataframe\">\n",
       "  <thead>\n",
       "    <tr style=\"text-align: right;\">\n",
       "      <th></th>\n",
       "      <th>District</th>\n",
       "      <th>Division</th>\n",
       "      <th>Area</th>\n",
       "      <th>Club</th>\n",
       "      <th>Clubname</th>\n",
       "      <th>Clubest</th>\n",
       "      <th>Clubstatus</th>\n",
       "      <th>DCP</th>\n",
       "      <th>Members</th>\n",
       "      <th>Clubcity</th>\n",
       "      <th>...</th>\n",
       "      <th>Clubphone</th>\n",
       "      <th>Clubday_o</th>\n",
       "      <th>Clubtime_o</th>\n",
       "      <th>Clubday</th>\n",
       "      <th>Clubtime</th>\n",
       "      <th>Clublen</th>\n",
       "      <th>Clubfreq</th>\n",
       "      <th>Clubopen</th>\n",
       "      <th>Clubadvanced</th>\n",
       "      <th>Notes:</th>\n",
       "    </tr>\n",
       "  </thead>\n",
       "  <tbody>\n",
       "    <tr>\n",
       "      <th>0</th>\n",
       "      <td>50.0</td>\n",
       "      <td>E</td>\n",
       "      <td>11.0</td>\n",
       "      <td>5509.0</td>\n",
       "      <td>Twin Cities Club</td>\n",
       "      <td>6/1/1984</td>\n",
       "      <td>Active</td>\n",
       "      <td>NaN</td>\n",
       "      <td>NaN</td>\n",
       "      <td>Texarkana</td>\n",
       "      <td>...</td>\n",
       "      <td>+1 903-278-6043</td>\n",
       "      <td>Thursday</td>\n",
       "      <td>12:00 PM</td>\n",
       "      <td>Thu</td>\n",
       "      <td>12:00:00</td>\n",
       "      <td>0.0</td>\n",
       "      <td>W1</td>\n",
       "      <td>O</td>\n",
       "      <td>NaN</td>\n",
       "      <td>NaN</td>\n",
       "    </tr>\n",
       "    <tr>\n",
       "      <th>1</th>\n",
       "      <td>50.0</td>\n",
       "      <td>E</td>\n",
       "      <td>11.0</td>\n",
       "      <td>7036.0</td>\n",
       "      <td>University Club</td>\n",
       "      <td>6/1/1988</td>\n",
       "      <td>Active</td>\n",
       "      <td>NaN</td>\n",
       "      <td>NaN</td>\n",
       "      <td>Texarkana</td>\n",
       "      <td>...</td>\n",
       "      <td>+1 903-244-5720</td>\n",
       "      <td>Mondays</td>\n",
       "      <td>6:30 PM</td>\n",
       "      <td>Mon</td>\n",
       "      <td>18:30:00</td>\n",
       "      <td>0.0</td>\n",
       "      <td>W1</td>\n",
       "      <td>O</td>\n",
       "      <td>NaN</td>\n",
       "      <td>NaN</td>\n",
       "    </tr>\n",
       "    <tr>\n",
       "      <th>2</th>\n",
       "      <td>50.0</td>\n",
       "      <td>E</td>\n",
       "      <td>12.0</td>\n",
       "      <td>584009.0</td>\n",
       "      <td>Conquerors Club</td>\n",
       "      <td>7/11/2003</td>\n",
       "      <td>Active</td>\n",
       "      <td>NaN</td>\n",
       "      <td>NaN</td>\n",
       "      <td>Barksdale AFB</td>\n",
       "      <td>...</td>\n",
       "      <td>+1 318-294-1038</td>\n",
       "      <td>Mondays</td>\n",
       "      <td>12:15 p.m.</td>\n",
       "      <td>Mon</td>\n",
       "      <td>12:15:00</td>\n",
       "      <td>0.0</td>\n",
       "      <td>W1</td>\n",
       "      <td>O</td>\n",
       "      <td>Yes</td>\n",
       "      <td>NaN</td>\n",
       "    </tr>\n",
       "    <tr>\n",
       "      <th>3</th>\n",
       "      <td>50.0</td>\n",
       "      <td>E</td>\n",
       "      <td>11.0</td>\n",
       "      <td>9682.0</td>\n",
       "      <td>200 Watt Speakers Club</td>\n",
       "      <td>11/1/1993</td>\n",
       "      <td>Active</td>\n",
       "      <td>NaN</td>\n",
       "      <td>NaN</td>\n",
       "      <td>Shreveport</td>\n",
       "      <td>...</td>\n",
       "      <td>+1 318-349-0767</td>\n",
       "      <td>3rd Saturday</td>\n",
       "      <td>1:00 PM</td>\n",
       "      <td>Sat</td>\n",
       "      <td>13:00:00</td>\n",
       "      <td>0.0</td>\n",
       "      <td>M1</td>\n",
       "      <td>O</td>\n",
       "      <td>Yes</td>\n",
       "      <td>NaN</td>\n",
       "    </tr>\n",
       "    <tr>\n",
       "      <th>4</th>\n",
       "      <td>50.0</td>\n",
       "      <td>E</td>\n",
       "      <td>11.0</td>\n",
       "      <td>1100434.0</td>\n",
       "      <td>Solid Rock</td>\n",
       "      <td>4/1/2008</td>\n",
       "      <td>Active</td>\n",
       "      <td>NaN</td>\n",
       "      <td>NaN</td>\n",
       "      <td>Texarkana</td>\n",
       "      <td>...</td>\n",
       "      <td>+1 903-793-2015</td>\n",
       "      <td>Tuesday</td>\n",
       "      <td>6:30 pm-7:30 pm</td>\n",
       "      <td>Tue</td>\n",
       "      <td>18:30:00</td>\n",
       "      <td>60.0</td>\n",
       "      <td>W1</td>\n",
       "      <td>O</td>\n",
       "      <td>NaN</td>\n",
       "      <td>NaN</td>\n",
       "    </tr>\n",
       "  </tbody>\n",
       "</table>\n",
       "<p>5 rows × 23 columns</p>\n",
       "</div>"
      ],
      "text/plain": [
       "   District Division  Area       Club                Clubname    Clubest  \\\n",
       "0      50.0        E  11.0     5509.0        Twin Cities Club   6/1/1984   \n",
       "1      50.0        E  11.0     7036.0         University Club   6/1/1988   \n",
       "2      50.0        E  12.0   584009.0         Conquerors Club  7/11/2003   \n",
       "3      50.0        E  11.0     9682.0  200 Watt Speakers Club  11/1/1993   \n",
       "4      50.0        E  11.0  1100434.0              Solid Rock   4/1/2008   \n",
       "\n",
       "  Clubstatus  DCP  Members       Clubcity  ...        Clubphone     Clubday_o  \\\n",
       "0     Active  NaN      NaN      Texarkana  ...  +1 903-278-6043      Thursday   \n",
       "1     Active  NaN      NaN      Texarkana  ...  +1 903-244-5720       Mondays   \n",
       "2     Active  NaN      NaN  Barksdale AFB  ...  +1 318-294-1038       Mondays   \n",
       "3     Active  NaN      NaN     Shreveport  ...  +1 318-349-0767  3rd Saturday   \n",
       "4     Active  NaN      NaN      Texarkana  ...  +1 903-793-2015       Tuesday   \n",
       "\n",
       "        Clubtime_o Clubday  Clubtime Clublen Clubfreq Clubopen  Clubadvanced  \\\n",
       "0         12:00 PM     Thu  12:00:00     0.0       W1        O           NaN   \n",
       "1          6:30 PM     Mon  18:30:00     0.0       W1        O           NaN   \n",
       "2       12:15 p.m.     Mon  12:15:00     0.0       W1        O           Yes   \n",
       "3          1:00 PM     Sat  13:00:00     0.0       M1        O           Yes   \n",
       "4  6:30 pm-7:30 pm     Tue  18:30:00    60.0       W1        O           NaN   \n",
       "\n",
       "  Notes:  \n",
       "0    NaN  \n",
       "1    NaN  \n",
       "2    NaN  \n",
       "3    NaN  \n",
       "4    NaN  \n",
       "\n",
       "[5 rows x 23 columns]"
      ]
     },
     "execution_count": 2,
     "metadata": {},
     "output_type": "execute_result"
    }
   ],
   "source": [
    "raw_data = pd.read_csv('Clubs_D50.csv')\n",
    "raw_data.head()"
   ]
  },
  {
   "cell_type": "code",
   "execution_count": 15,
   "metadata": {},
   "outputs": [
    {
     "data": {
      "text/plain": [
       "57.4"
      ]
     },
     "execution_count": 15,
     "metadata": {},
     "output_type": "execute_result"
    }
   ],
   "source": [
    "math.ceil(len(raw_data) / 5)\n",
    "(len(raw_data) / 5)"
   ]
  },
  {
   "cell_type": "code",
   "execution_count": 146,
   "metadata": {},
   "outputs": [],
   "source": [
    "sorted_data = raw_data.sort_values(by = \"Club\")"
   ]
  },
  {
   "cell_type": "code",
   "execution_count": 147,
   "metadata": {},
   "outputs": [
    {
     "data": {
      "text/html": [
       "<div>\n",
       "<style scoped>\n",
       "    .dataframe tbody tr th:only-of-type {\n",
       "        vertical-align: middle;\n",
       "    }\n",
       "\n",
       "    .dataframe tbody tr th {\n",
       "        vertical-align: top;\n",
       "    }\n",
       "\n",
       "    .dataframe thead th {\n",
       "        text-align: right;\n",
       "    }\n",
       "</style>\n",
       "<table border=\"1\" class=\"dataframe\">\n",
       "  <thead>\n",
       "    <tr style=\"text-align: right;\">\n",
       "      <th></th>\n",
       "      <th>District</th>\n",
       "      <th>Division</th>\n",
       "      <th>Area</th>\n",
       "      <th>Club</th>\n",
       "      <th>Clubname</th>\n",
       "      <th>Clubest</th>\n",
       "      <th>Clubstatus</th>\n",
       "      <th>DCP</th>\n",
       "      <th>Members</th>\n",
       "      <th>Clubcity</th>\n",
       "      <th>...</th>\n",
       "      <th>Clubphone</th>\n",
       "      <th>Clubday_o</th>\n",
       "      <th>Clubtime_o</th>\n",
       "      <th>Clubday</th>\n",
       "      <th>Clubtime</th>\n",
       "      <th>Clublen</th>\n",
       "      <th>Clubfreq</th>\n",
       "      <th>Clubopen</th>\n",
       "      <th>Clubadvanced</th>\n",
       "      <th>Notes:</th>\n",
       "    </tr>\n",
       "  </thead>\n",
       "  <tbody>\n",
       "    <tr>\n",
       "      <th>174</th>\n",
       "      <td>50.0</td>\n",
       "      <td>S</td>\n",
       "      <td>53.0</td>\n",
       "      <td>437.0</td>\n",
       "      <td>Literary Legends Club</td>\n",
       "      <td>5/1/2002</td>\n",
       "      <td>Active</td>\n",
       "      <td>NaN</td>\n",
       "      <td>NaN</td>\n",
       "      <td>Dallas</td>\n",
       "      <td>...</td>\n",
       "      <td>+1 214-467-6798</td>\n",
       "      <td>Saturday</td>\n",
       "      <td>9:15 AM</td>\n",
       "      <td>Sat</td>\n",
       "      <td>9:15:00</td>\n",
       "      <td>0.0</td>\n",
       "      <td>W1</td>\n",
       "      <td>O</td>\n",
       "      <td>NaN</td>\n",
       "      <td>NaN</td>\n",
       "    </tr>\n",
       "    <tr>\n",
       "      <th>81</th>\n",
       "      <td>50.0</td>\n",
       "      <td>M</td>\n",
       "      <td>31.0</td>\n",
       "      <td>713.0</td>\n",
       "      <td>Big \"D\" Toastmasters</td>\n",
       "      <td>3/1/1949</td>\n",
       "      <td>Active</td>\n",
       "      <td>NaN</td>\n",
       "      <td>NaN</td>\n",
       "      <td>Dallas</td>\n",
       "      <td>...</td>\n",
       "      <td>+1 214-660-5483</td>\n",
       "      <td>Thursday</td>\n",
       "      <td>6:30 PM</td>\n",
       "      <td>Thu</td>\n",
       "      <td>18:30:00</td>\n",
       "      <td>0.0</td>\n",
       "      <td>W1</td>\n",
       "      <td>O</td>\n",
       "      <td>NaN</td>\n",
       "      <td>NaN</td>\n",
       "    </tr>\n",
       "    <tr>\n",
       "      <th>6</th>\n",
       "      <td>50.0</td>\n",
       "      <td>E</td>\n",
       "      <td>12.0</td>\n",
       "      <td>718.0</td>\n",
       "      <td>Shreveport Club</td>\n",
       "      <td>5/1/1949</td>\n",
       "      <td>Active</td>\n",
       "      <td>NaN</td>\n",
       "      <td>NaN</td>\n",
       "      <td>Shreveport</td>\n",
       "      <td>...</td>\n",
       "      <td>+1 318-841-3129</td>\n",
       "      <td>Monday</td>\n",
       "      <td>12:00 PM</td>\n",
       "      <td>Mon</td>\n",
       "      <td>12:00:00</td>\n",
       "      <td>0.0</td>\n",
       "      <td>W1</td>\n",
       "      <td>O</td>\n",
       "      <td>NaN</td>\n",
       "      <td>NaN</td>\n",
       "    </tr>\n",
       "    <tr>\n",
       "      <th>226</th>\n",
       "      <td>50.0</td>\n",
       "      <td>T</td>\n",
       "      <td>65.0</td>\n",
       "      <td>967.0</td>\n",
       "      <td>Ericsson Village Toastmasters Club</td>\n",
       "      <td>8/31/2001</td>\n",
       "      <td>Active</td>\n",
       "      <td>NaN</td>\n",
       "      <td>NaN</td>\n",
       "      <td>Plano</td>\n",
       "      <td>...</td>\n",
       "      <td>+1 972-583-3389</td>\n",
       "      <td>Thursday</td>\n",
       "      <td>12:00 PM</td>\n",
       "      <td>Thu</td>\n",
       "      <td>12:00:00</td>\n",
       "      <td>0.0</td>\n",
       "      <td>W1</td>\n",
       "      <td>O</td>\n",
       "      <td>NaN</td>\n",
       "      <td>NaN</td>\n",
       "    </tr>\n",
       "    <tr>\n",
       "      <th>187</th>\n",
       "      <td>50.0</td>\n",
       "      <td>S</td>\n",
       "      <td>55.0</td>\n",
       "      <td>1165.0</td>\n",
       "      <td>City Talkers Toastmasters Club</td>\n",
       "      <td>4/1/1998</td>\n",
       "      <td>Ineligible</td>\n",
       "      <td>NaN</td>\n",
       "      <td>NaN</td>\n",
       "      <td>Dallas</td>\n",
       "      <td>...</td>\n",
       "      <td>+1 214-671-8875</td>\n",
       "      <td>Tues, 1st &amp; 3rd</td>\n",
       "      <td>12:00 p.m.</td>\n",
       "      <td>Tue</td>\n",
       "      <td>12:00:00</td>\n",
       "      <td>0.0</td>\n",
       "      <td>M2</td>\n",
       "      <td>O</td>\n",
       "      <td>NaN</td>\n",
       "      <td>NaN</td>\n",
       "    </tr>\n",
       "  </tbody>\n",
       "</table>\n",
       "<p>5 rows × 23 columns</p>\n",
       "</div>"
      ],
      "text/plain": [
       "     District Division  Area    Club                            Clubname  \\\n",
       "174      50.0        S  53.0   437.0               Literary Legends Club   \n",
       "81       50.0        M  31.0   713.0                Big \"D\" Toastmasters   \n",
       "6        50.0        E  12.0   718.0                     Shreveport Club   \n",
       "226      50.0        T  65.0   967.0  Ericsson Village Toastmasters Club   \n",
       "187      50.0        S  55.0  1165.0      City Talkers Toastmasters Club   \n",
       "\n",
       "       Clubest  Clubstatus  DCP  Members    Clubcity  ...        Clubphone  \\\n",
       "174   5/1/2002      Active  NaN      NaN      Dallas  ...  +1 214-467-6798   \n",
       "81    3/1/1949      Active  NaN      NaN      Dallas  ...  +1 214-660-5483   \n",
       "6     5/1/1949      Active  NaN      NaN  Shreveport  ...  +1 318-841-3129   \n",
       "226  8/31/2001      Active  NaN      NaN       Plano  ...  +1 972-583-3389   \n",
       "187   4/1/1998  Ineligible  NaN      NaN      Dallas  ...  +1 214-671-8875   \n",
       "\n",
       "           Clubday_o  Clubtime_o Clubday  Clubtime Clublen Clubfreq Clubopen  \\\n",
       "174         Saturday     9:15 AM     Sat   9:15:00     0.0       W1        O   \n",
       "81          Thursday     6:30 PM     Thu  18:30:00     0.0       W1        O   \n",
       "6             Monday    12:00 PM     Mon  12:00:00     0.0       W1        O   \n",
       "226         Thursday    12:00 PM     Thu  12:00:00     0.0       W1        O   \n",
       "187  Tues, 1st & 3rd  12:00 p.m.     Tue  12:00:00     0.0       M2        O   \n",
       "\n",
       "     Clubadvanced Notes:  \n",
       "174           NaN    NaN  \n",
       "81            NaN    NaN  \n",
       "6             NaN    NaN  \n",
       "226           NaN    NaN  \n",
       "187           NaN    NaN  \n",
       "\n",
       "[5 rows x 23 columns]"
      ]
     },
     "execution_count": 147,
     "metadata": {},
     "output_type": "execute_result"
    }
   ],
   "source": [
    "sorted_data.head()"
   ]
  },
  {
   "cell_type": "code",
   "execution_count": 23,
   "metadata": {},
   "outputs": [],
   "source": [
    "with open('../data/bayg29-loc.pickle', 'rb') as f:  \n",
    "    loc = pickle.load(f)"
   ]
  },
  {
   "cell_type": "code",
   "execution_count": 24,
   "metadata": {},
   "outputs": [
    {
     "data": {
      "text/plain": [
       "[array([1150., 1760.], dtype=float32),\n",
       " array([ 630., 1660.], dtype=float32),\n",
       " array([  40., 2090.], dtype=float32),\n",
       " array([ 750., 1100.], dtype=float32),\n",
       " array([ 750., 2030.], dtype=float32)]"
      ]
     },
     "execution_count": 24,
     "metadata": {},
     "output_type": "execute_result"
    }
   ],
   "source": [
    "loc[:5]"
   ]
  },
  {
   "cell_type": "code",
   "execution_count": 25,
   "metadata": {},
   "outputs": [],
   "source": [
    "with open('../data/bayg29-dist.pickle', 'rb') as f:  \n",
    "    dist = pickle.load(f)"
   ]
  },
  {
   "cell_type": "code",
   "execution_count": 46,
   "metadata": {},
   "outputs": [
    {
     "name": "stdout",
     "output_type": "stream",
     "text": [
      "107 ns ± 38.3 ns per loop (mean ± std. dev. of 7 runs, 10000000 loops each)\n"
     ]
    }
   ],
   "source": [
    "%timeit dist[0][1]"
   ]
  },
  {
   "cell_type": "code",
   "execution_count": 30,
   "metadata": {},
   "outputs": [],
   "source": [
    "dist_array = np.array(dist)"
   ]
  },
  {
   "cell_type": "code",
   "execution_count": 42,
   "metadata": {},
   "outputs": [
    {
     "data": {
      "text/plain": [
       "array([   0.        ,  529.52807617, 1158.01550293,  771.75128174,\n",
       "        482.59713745,  332.41540527, 1217.4152832 ,  364.00549316,\n",
       "        616.11688232,  629.36474609, 1249.07971191,  540.37023926,\n",
       "        456.94638062, 1238.2244873 ,  948.47247314,  574.89129639,\n",
       "       1488.38842773, 1134.06347656,  817.43499756,  671.19299316,\n",
       "        320.15621948, 1422.39233398,  864.00231934,  282.31188965,\n",
       "        978.67254639,  756.63726807,  460.1086731 ,  186.01075745,\n",
       "        820.06097412])"
      ]
     },
     "execution_count": 42,
     "metadata": {},
     "output_type": "execute_result"
    }
   ],
   "source": [
    "dist_array[0]"
   ]
  },
  {
   "cell_type": "code",
   "execution_count": 60,
   "metadata": {},
   "outputs": [],
   "source": [
    "n_dist = MinMaxScaler().fit_transform(dist)"
   ]
  },
  {
   "cell_type": "code",
   "execution_count": 61,
   "metadata": {},
   "outputs": [
    {
     "data": {
      "text/plain": [
       "array([0.        , 0.36889492, 0.53611253, 0.60701992, 0.29291919,\n",
       "       0.19758648, 0.56361213, 0.22280112, 0.33754381, 0.54795777,\n",
       "       0.70139818, 0.27692366, 0.38246559, 0.71541408, 0.64890846,\n",
       "       0.37664807, 0.76275475, 0.706352  , 0.53904754, 0.51919822,\n",
       "       0.23064479, 0.73922687, 0.43404052, 0.20540603, 0.5447504 ,\n",
       "       0.40237555, 0.29303906, 0.11109724, 0.44259779])"
      ]
     },
     "execution_count": 61,
     "metadata": {},
     "output_type": "execute_result"
    }
   ],
   "source": [
    "n_dist[0]"
   ]
  },
  {
   "cell_type": "code",
   "execution_count": 47,
   "metadata": {},
   "outputs": [
    {
     "name": "stdout",
     "output_type": "stream",
     "text": [
      "484 ns ± 50.5 ns per loop (mean ± std. dev. of 7 runs, 1000000 loops each)\n"
     ]
    }
   ],
   "source": [
    "%timeit dist_array[0][1]"
   ]
  },
  {
   "cell_type": "code",
   "execution_count": 38,
   "metadata": {},
   "outputs": [
    {
     "name": "stdout",
     "output_type": "stream",
     "text": [
      "373 ns ± 29.2 ns per loop (mean ± std. dev. of 7 runs, 1000000 loops each)\n"
     ]
    }
   ],
   "source": [
    "%timeit combinations(['A', 'B', 'C', 'D', 'E'], 2)"
   ]
  },
  {
   "cell_type": "code",
   "execution_count": 41,
   "metadata": {},
   "outputs": [
    {
     "data": {
      "text/plain": [
       "10"
      ]
     },
     "execution_count": 41,
     "metadata": {},
     "output_type": "execute_result"
    }
   ],
   "source": [
    "len(list(combinations(['A', 'B', 'C', 'D', 'E'], 2)))"
   ]
  },
  {
   "cell_type": "code",
   "execution_count": 54,
   "metadata": {},
   "outputs": [],
   "source": [
    "dcp = pd.read_csv('20200630_D50_Performance.csv')"
   ]
  },
  {
   "cell_type": "code",
   "execution_count": 57,
   "metadata": {},
   "outputs": [
    {
     "data": {
      "text/plain": [
       "dtype('float64')"
      ]
     },
     "execution_count": 57,
     "metadata": {},
     "output_type": "execute_result"
    }
   ],
   "source": [
    "dcp['Club'].dtype"
   ]
  },
  {
   "cell_type": "code",
   "execution_count": 58,
   "metadata": {},
   "outputs": [],
   "source": [
    "awards = pd.read_csv('20201229_D50_Awards.csv')"
   ]
  },
  {
   "cell_type": "code",
   "execution_count": 59,
   "metadata": {},
   "outputs": [
    {
     "data": {
      "text/plain": [
       "dtype('int64')"
      ]
     },
     "execution_count": 59,
     "metadata": {},
     "output_type": "execute_result"
    }
   ],
   "source": [
    "awards['Club'].dtype"
   ]
  },
  {
   "cell_type": "code",
   "execution_count": 16,
   "metadata": {},
   "outputs": [],
   "source": [
    "club_zips = pd.read_csv('club_zips.csv')"
   ]
  },
  {
   "cell_type": "code",
   "execution_count": 17,
   "metadata": {},
   "outputs": [
    {
     "data": {
      "text/html": [
       "<div>\n",
       "<style scoped>\n",
       "    .dataframe tbody tr th:only-of-type {\n",
       "        vertical-align: middle;\n",
       "    }\n",
       "\n",
       "    .dataframe tbody tr th {\n",
       "        vertical-align: top;\n",
       "    }\n",
       "\n",
       "    .dataframe thead th {\n",
       "        text-align: right;\n",
       "    }\n",
       "</style>\n",
       "<table border=\"1\" class=\"dataframe\">\n",
       "  <thead>\n",
       "    <tr style=\"text-align: right;\">\n",
       "      <th></th>\n",
       "      <th>club_no</th>\n",
       "      <th>zip</th>\n",
       "      <th>lat</th>\n",
       "      <th>long</th>\n",
       "    </tr>\n",
       "  </thead>\n",
       "  <tbody>\n",
       "    <tr>\n",
       "      <th>0</th>\n",
       "      <td>5509</td>\n",
       "      <td>75501</td>\n",
       "      <td>33.3672</td>\n",
       "      <td>-94.2356</td>\n",
       "    </tr>\n",
       "    <tr>\n",
       "      <th>1</th>\n",
       "      <td>7036</td>\n",
       "      <td>75501</td>\n",
       "      <td>33.3672</td>\n",
       "      <td>-94.2356</td>\n",
       "    </tr>\n",
       "    <tr>\n",
       "      <th>2</th>\n",
       "      <td>584009</td>\n",
       "      <td>71110</td>\n",
       "      <td>32.5153</td>\n",
       "      <td>-93.6345</td>\n",
       "    </tr>\n",
       "    <tr>\n",
       "      <th>3</th>\n",
       "      <td>9682</td>\n",
       "      <td>71101</td>\n",
       "      <td>32.5072</td>\n",
       "      <td>-93.7444</td>\n",
       "    </tr>\n",
       "    <tr>\n",
       "      <th>4</th>\n",
       "      <td>1100434</td>\n",
       "      <td>75501-6314</td>\n",
       "      <td>33.3672</td>\n",
       "      <td>-94.2356</td>\n",
       "    </tr>\n",
       "  </tbody>\n",
       "</table>\n",
       "</div>"
      ],
      "text/plain": [
       "   club_no         zip      lat     long\n",
       "0     5509       75501  33.3672 -94.2356\n",
       "1     7036       75501  33.3672 -94.2356\n",
       "2   584009       71110  32.5153 -93.6345\n",
       "3     9682       71101  32.5072 -93.7444\n",
       "4  1100434  75501-6314  33.3672 -94.2356"
      ]
     },
     "execution_count": 17,
     "metadata": {},
     "output_type": "execute_result"
    }
   ],
   "source": [
    "club_zips.head()"
   ]
  },
  {
   "cell_type": "markdown",
   "metadata": {},
   "source": [
    "The pattern I need to match: `self.locations.append(np.asarray(row, dtype=np.float32)`\n",
    "\n",
    "An example: `array([1150., 1760.], dtype=float32)`. Lon = x, Lat = y"
   ]
  },
  {
   "cell_type": "code",
   "execution_count": 21,
   "metadata": {},
   "outputs": [
    {
     "data": {
      "text/plain": [
       "array([ 5.50900e+03,  7.55010e+04,  3.33672e+01, -9.42356e+01],\n",
       "      dtype=float32)"
      ]
     },
     "execution_count": 21,
     "metadata": {},
     "output_type": "execute_result"
    }
   ],
   "source": [
    "np.asarray(club_zips.iloc[0], dtype=np.float32)"
   ]
  },
  {
   "cell_type": "code",
   "execution_count": 35,
   "metadata": {},
   "outputs": [
    {
     "data": {
      "text/plain": [
       "[array([-94.2356,  33.3672], dtype=float32),\n",
       " array([-94.2356,  33.3672], dtype=float32),\n",
       " array([-93.6345,  32.5153], dtype=float32),\n",
       " array([-93.7444,  32.5072], dtype=float32),\n",
       " array([-94.2356,  33.3672], dtype=float32)]"
      ]
     },
     "execution_count": 35,
     "metadata": {},
     "output_type": "execute_result"
    }
   ],
   "source": [
    "[np.asarray([row[4], row[3]], dtype=np.float32) for row in club_zips.head().itertuples()]"
   ]
  },
  {
   "cell_type": "code",
   "execution_count": 34,
   "metadata": {},
   "outputs": [
    {
     "name": "stdout",
     "output_type": "stream",
     "text": [
      "-94.2356 33.3672\n",
      "-94.2356 33.3672\n",
      "-93.6345 32.5153\n",
      "-93.7444 32.5072\n",
      "-94.2356 33.3672\n"
     ]
    }
   ],
   "source": [
    "for row in club_zips.head().itertuples():\n",
    "    print(row[4], row[3])"
   ]
  },
  {
   "cell_type": "code",
   "execution_count": 74,
   "metadata": {},
   "outputs": [],
   "source": [
    "with open('../data/loc.pickle', 'rb') as f:  \n",
    "    locations = pickle.load(f)"
   ]
  },
  {
   "cell_type": "code",
   "execution_count": 77,
   "metadata": {},
   "outputs": [
    {
     "data": {
      "text/plain": [
       "[array([-96.8742,  32.6623], dtype=float32),\n",
       " array([-96.7717,  32.8335], dtype=float32),\n",
       " array([-93.7444,  32.5072], dtype=float32),\n",
       " array([-96.8128,  33.0838], dtype=float32),\n",
       " array([-96.7999,  32.7877], dtype=float32)]"
      ]
     },
     "execution_count": 77,
     "metadata": {},
     "output_type": "execute_result"
    }
   ],
   "source": [
    "locations[:5]"
   ]
  },
  {
   "cell_type": "code",
   "execution_count": 86,
   "metadata": {},
   "outputs": [
    {
     "data": {
      "text/plain": [
       "True"
      ]
     },
     "execution_count": 86,
     "metadata": {},
     "output_type": "execute_result"
    }
   ],
   "source": [
    "len(locations) > 0"
   ]
  },
  {
   "cell_type": "code",
   "execution_count": 89,
   "metadata": {},
   "outputs": [],
   "source": [
    "with open('../data/dist.pickle', 'rb') as f:  \n",
    "    distances = pickle.load(f)"
   ]
  },
  {
   "cell_type": "code",
   "execution_count": 90,
   "metadata": {
    "collapsed": true,
    "jupyter": {
     "outputs_hidden": true
    }
   },
   "outputs": [
    {
     "data": {
      "text/plain": [
       "array([0.      , 0.05865 , 0.979   , 0.1225  , 0.04257 , 0.075   ,\n",
       "       0.10956 , 0.02286 , 0.0916  , 0.0986  , 0.01895 , 0.0736  ,\n",
       "       0.7446  , 0.0976  , 0.08276 , 0.05865 , 0.086   , 0.0378  ,\n",
       "       0.04013 , 0.04257 , 0.0986  , 0.11255 , 0.11255 , 0.1225  ,\n",
       "       0.075   , 0.075   , 0.8486  , 0.1649  , 0.0986  , 0.086   ,\n",
       "       0.1284  , 0.974   , 0.0406  , 0.1515  , 0.98    , 0.0986  ,\n",
       "       0.086   , 0.955   , 0.0976  , 0.04257 , 0.04013 , 0.09644 ,\n",
       "       0.1225  , 0.08765 , 0.1179  , 0.11346 , 0.07434 , 0.04013 ,\n",
       "       0.1225  , 0.98    , 0.1225  , 0.1372  , 0.04257 , 0.11255 ,\n",
       "       0.0854  , 0.1225  , 0.8486  , 0.827   , 0.04507 , 0.1225  ,\n",
       "       0.08185 , 0.1344  , 0.0854  , 0.05865 , 0.0986  , 0.05518 ,\n",
       "       0.0406  , 0.04013 , 0.0779  , 0.11255 , 0.04257 , 0.0986  ,\n",
       "       0.0986  , 0.3164  , 0.372   , 0.1936  , 0.979   , 0.9805  ,\n",
       "       0.086   , 0.1038  , 0.98    , 0.04013 , 0.1284  , 0.2942  ,\n",
       "       0.1093  , 0.11255 , 0.1284  , 0.1093  , 0.1225  , 0.1539  ,\n",
       "       0.1447  , 0.04257 , 0.0986  , 0.1225  , 0.1093  , 0.0976  ,\n",
       "       0.1225  , 0.98    , 0.1093  , 0.1225  , 0.0493  , 0.9575  ,\n",
       "       0.0761  , 0.1284  , 0.1093  , 0.0976  , 0.08014 , 0.1179  ,\n",
       "       0.03174 , 0.827   , 0.1225  , 0.0986  , 0.2017  , 0.3164  ,\n",
       "       0.0986  , 0.1447  , 0.08185 , 0.0493  , 0.1225  , 0.1179  ,\n",
       "       0.1179  , 0.010216, 0.1447  , 0.0659  , 0.1036  , 0.1372  ,\n",
       "       0.0493  , 0.075   , 0.0854  , 0.04257 , 0.1225  , 0.04013 ,\n",
       "       0.1225  , 0.1179  , 0.0976  , 0.04013 , 0.04163 , 0.1598  ,\n",
       "       0.01692 , 0.0736  , 0.0378  , 0.1598  , 0.0986  , 0.0481  ,\n",
       "       0.04013 , 0.0986  , 0.08527 , 0.08276 , 0.08185 , 0.0986  ,\n",
       "       0.05865 , 0.09644 , 0.1225  , 0.08527 , 0.956   , 0.1004  ,\n",
       "       0.0976  , 0.0779  , 0.1372  , 0.9824  , 0.03796 , 0.086   ,\n",
       "       0.1344  , 0.0986  , 0.08276 , 0.11255 , 0.07434 , 0.08185 ,\n",
       "       0.1372  , 0.08276 , 0.08527 , 0.08185 , 0.04163 , 0.1225  ,\n",
       "       0.086   , 0.04257 , 0.0736  , 0.075   , 0.11346 , 0.1093  ,\n",
       "       0.1225  , 0.09906 , 0.1225  , 0.1225  , 0.0986  , 0.086   ,\n",
       "       0.086   , 0.1476  , 0.1447  , 0.1225  , 0.1344  , 0.0378  ,\n",
       "       0.1225  , 0.1179  , 0.1179  , 0.1344  , 0.9585  , 0.911   ,\n",
       "       0.1225  , 0.01714 , 0.04257 , 0.086   , 0.08185 , 0.086   ,\n",
       "       0.1796  , 0.04257 , 0.1179  , 0.1179  , 0.08014 , 0.1412  ,\n",
       "       0.125   , 0.075   , 0.827   , 0.1225  , 0.01692 , 0.0571  ,\n",
       "       0.01895 , 0.07434 , 0.1372  , 0.978   , 0.1225  ], dtype=float16)"
      ]
     },
     "execution_count": 90,
     "metadata": {},
     "output_type": "execute_result"
    }
   ],
   "source": [
    "distances[0]"
   ]
  },
  {
   "cell_type": "code",
   "execution_count": 56,
   "metadata": {},
   "outputs": [
    {
     "name": "stdout",
     "output_type": "stream",
     "text": [
      "Base: 0.19953899085521698\n",
      "Floa: 0.1995849609375\n"
     ]
    }
   ],
   "source": [
    "a_dist = np.linalg.norm(locations[0] - locations[1])\n",
    "float16_dist = a_dist.astype('float16')\n",
    "print(f'Base: {a_dist}')\n",
    "print(f'Floa: {float16_dist}')"
   ]
  },
  {
   "cell_type": "code",
   "execution_count": 71,
   "metadata": {},
   "outputs": [
    {
     "data": {
      "text/plain": [
       "array([[0., 0., 0., ..., 0., 0., 0.],\n",
       "       [0., 0., 0., ..., 0., 0., 0.],\n",
       "       [0., 0., 0., ..., 0., 0., 0.],\n",
       "       ...,\n",
       "       [0., 0., 0., ..., 0., 0., 0.],\n",
       "       [0., 0., 0., ..., 0., 0., 0.],\n",
       "       [0., 0., 0., ..., 0., 0., 0.]], dtype=float16)"
      ]
     },
     "execution_count": 71,
     "metadata": {},
     "output_type": "execute_result"
    }
   ],
   "source": [
    "size = len(locations)\n",
    "distances = np.zeros((size, size), dtype='float16')\n",
    "np.zeros((size, size), dtype=np.float16)"
   ]
  },
  {
   "cell_type": "code",
   "execution_count": 60,
   "metadata": {},
   "outputs": [
    {
     "data": {
      "text/plain": [
       "(221, 221)"
      ]
     },
     "execution_count": 60,
     "metadata": {},
     "output_type": "execute_result"
    }
   ],
   "source": [
    "distances.shape"
   ]
  },
  {
   "cell_type": "code",
   "execution_count": 61,
   "metadata": {},
   "outputs": [],
   "source": [
    "# Populate the matrix\n",
    "for i in range(size):\n",
    "    for j in range(i + 1, size):\n",
    "        # Get the distance between them in degrees\n",
    "        distance = np.linalg.norm(locations[j] - locations[i])\n",
    "        distances[i][j] = distance\n",
    "        distances[j][i] = distance"
   ]
  },
  {
   "cell_type": "code",
   "execution_count": 67,
   "metadata": {},
   "outputs": [
    {
     "data": {
      "text/plain": [
       "array([0.    , 0.1996, 3.133 , 0.426 , 0.1458, 0.2534, 0.3525, 0.0806,\n",
       "       0.316 , 0.334 ], dtype=float16)"
      ]
     },
     "execution_count": 67,
     "metadata": {},
     "output_type": "execute_result"
    }
   ],
   "source": [
    "distances[0][:10]"
   ]
  },
  {
   "cell_type": "code",
   "execution_count": 88,
   "metadata": {},
   "outputs": [
    {
     "data": {
      "text/plain": [
       "array([[0.     , 0.05865, 0.979  , ..., 0.1372 , 0.978  , 0.1225 ],\n",
       "       [0.05716, 0.     , 0.9517 , ..., 0.0941 , 0.9507 , 0.07294],\n",
       "       [0.897  , 0.895  , 0.     , ..., 0.9004 , 0.01114, 0.898  ],\n",
       "       ...,\n",
       "       [0.1398 , 0.0984 , 1.     , ..., 0.     , 0.9995 , 0.0271 ],\n",
       "       [0.8887 , 0.886  , 0.01105, ..., 0.892  , 0.     , 0.8896 ],\n",
       "       [0.122  , 0.0746 , 0.976  , ..., 0.0265 , 0.975  , 0.     ]],\n",
       "      dtype=float16)"
      ]
     },
     "execution_count": 88,
     "metadata": {},
     "output_type": "execute_result"
    }
   ],
   "source": [
    "MinMaxScaler().fit_transform(distances)"
   ]
  },
  {
   "cell_type": "code",
   "execution_count": 92,
   "metadata": {},
   "outputs": [
    {
     "data": {
      "text/plain": [
       "[0, 1, 2, 3, 4, 5, 6, 7, 8, 9, 10]"
      ]
     },
     "execution_count": 92,
     "metadata": {},
     "output_type": "execute_result"
    }
   ],
   "source": [
    "list(range(11))"
   ]
  },
  {
   "cell_type": "code",
   "execution_count": 93,
   "metadata": {},
   "outputs": [],
   "source": [
    "from scipy.spatial import ConvexHull, convex_hull_plot_2d"
   ]
  },
  {
   "cell_type": "code",
   "execution_count": 116,
   "metadata": {},
   "outputs": [
    {
     "name": "stdout",
     "output_type": "stream",
     "text": [
      "1 ms ± 11.7 µs per loop (mean ± std. dev. of 7 runs, 1000 loops each)\n"
     ]
    }
   ],
   "source": [
    "%timeit hull = ConvexHull(locations[:5])"
   ]
  },
  {
   "cell_type": "code",
   "execution_count": 132,
   "metadata": {},
   "outputs": [
    {
     "name": "stdout",
     "output_type": "stream",
     "text": [
      "154 ns ± 1.71 ns per loop (mean ± std. dev. of 7 runs, 10000000 loops each)\n"
     ]
    }
   ],
   "source": [
    "%timeit locations[:5]"
   ]
  },
  {
   "cell_type": "code",
   "execution_count": 168,
   "metadata": {},
   "outputs": [
    {
     "data": {
      "text/plain": [
       "[array([-96.8742,  32.6623], dtype=float32),\n",
       " array([-96.7717,  32.8335], dtype=float32),\n",
       " array([-96.7999,  32.7877], dtype=float32),\n",
       " array([-96.8128,  33.0838], dtype=float32),\n",
       " array([-96.7999,  32.7877], dtype=float32)]"
      ]
     },
     "execution_count": 168,
     "metadata": {},
     "output_type": "execute_result"
    }
   ],
   "source": [
    "[locations[i] for i in [0, 1, 200, 3, 4]]"
   ]
  },
  {
   "cell_type": "code",
   "execution_count": 134,
   "metadata": {},
   "outputs": [
    {
     "data": {
      "text/plain": [
       "[array([-96.8742,  32.6623], dtype=float32),\n",
       " array([-96.7717,  32.8335], dtype=float32),\n",
       " array([-93.7444,  32.5072], dtype=float32),\n",
       " array([-96.8128,  33.0838], dtype=float32),\n",
       " array([-96.7999,  32.7877], dtype=float32)]"
      ]
     },
     "execution_count": 134,
     "metadata": {},
     "output_type": "execute_result"
    }
   ],
   "source": [
    "locations[:5]"
   ]
  },
  {
   "cell_type": "code",
   "execution_count": 94,
   "metadata": {},
   "outputs": [
    {
     "data": {
      "text/plain": [
       "<scipy.spatial.qhull.ConvexHull at 0x192e917d6c8>"
      ]
     },
     "execution_count": 94,
     "metadata": {},
     "output_type": "execute_result"
    }
   ],
   "source": [
    "hull"
   ]
  },
  {
   "cell_type": "code",
   "execution_count": 117,
   "metadata": {},
   "outputs": [
    {
     "name": "stdout",
     "output_type": "stream",
     "text": [
      "Input: [array([-96.8742,  32.6623], dtype=float32), array([-96.7717,  32.8335], dtype=float32), array([-93.7444,  32.5072], dtype=float32), array([-96.8128,  33.0838], dtype=float32), array([-96.7999,  32.7877], dtype=float32)]\n",
      "Points: \n",
      "[[-96.87419891  32.66230011]\n",
      " [-96.771698    32.83349991]\n",
      " [-93.74440002  32.50719833]\n",
      " [-96.81279755  33.08380127]\n",
      " [-96.79989624  32.78770065]]\n",
      "Vertices: [0 2 3]\n",
      "Area: 6.681693771366869\n",
      "Volume: 0.6643686612078376\n"
     ]
    }
   ],
   "source": [
    "print(f'Input: {locations[:5]}')\n",
    "print(f'Points: ')\n",
    "print(hull.points)\n",
    "print(f'Vertices: {hull.vertices}')\n",
    "print(f'Area: {hull.area}')\n",
    "print(f'Volume: {hull.volume}')"
   ]
  },
  {
   "cell_type": "code",
   "execution_count": 105,
   "metadata": {},
   "outputs": [
    {
     "data": {
      "text/plain": [
       "-96.8742"
      ]
     },
     "execution_count": 105,
     "metadata": {},
     "output_type": "execute_result"
    }
   ],
   "source": [
    "locations[0][0]"
   ]
  },
  {
   "cell_type": "code",
   "execution_count": 160,
   "metadata": {},
   "outputs": [
    {
     "data": {
      "text/plain": [
       "[[0, 1, 2, 3, 4],\n",
       " [5, 6, 7, 8, 9],\n",
       " [10, 11, 12, 13, 14],\n",
       " [15, 16, 17, 18, 19],\n",
       " [20, 21, 22, 23, 24]]"
      ]
     },
     "execution_count": 160,
     "metadata": {},
     "output_type": "execute_result"
    }
   ],
   "source": [
    "def chunks(clubs, n):\n",
    "    \"\"\"Yield successive n-sized chunks from l.\"\"\"\n",
    "    for i in range(0, len(clubs), n):\n",
    "        yield clubs[i:i + n]\n",
    "\n",
    "test_areas_list = list(chunks(list(range(220)), 5))\n",
    "test_areas_list[:5]"
   ]
  },
  {
   "cell_type": "code",
   "execution_count": 161,
   "metadata": {},
   "outputs": [],
   "source": [
    "from math import pi\n",
    "\n",
    "def compactness(area):\n",
    "    hull = ConvexHull([locations[i] for i in area])\n",
    "    return (4 * pi * hull.volume) / (hull.area * hull.area)"
   ]
  },
  {
   "cell_type": "code",
   "execution_count": 166,
   "metadata": {},
   "outputs": [],
   "source": [
    "def average_compactness(areas):\n",
    "    return np.mean([compactness(area) for area in areas])"
   ]
  },
  {
   "cell_type": "code",
   "execution_count": 167,
   "metadata": {},
   "outputs": [
    {
     "data": {
      "text/plain": [
       "0.37935183352638274"
      ]
     },
     "execution_count": 167,
     "metadata": {},
     "output_type": "execute_result"
    }
   ],
   "source": [
    "average_compactness(test_areas_list)"
   ]
  },
  {
   "cell_type": "code",
   "execution_count": null,
   "metadata": {},
   "outputs": [],
   "source": []
  },
  {
   "cell_type": "code",
   "execution_count": 127,
   "metadata": {
    "jupyter": {
     "source_hidden": true
    }
   },
   "outputs": [],
   "source": [
    "def get_area_perimeter(clubs):\n",
    "        # Distance between last and first club\n",
    "        distance = np.linalg.norm(locations[clubs[-1]] - locations[clubs[0]])\n",
    "        #distance = distances[clubs[-1]][clubs[0]]\n",
    "        # Add the distance between the rest\n",
    "        for i in range(len(clubs) - 1):\n",
    "            distance += np.linalg.norm(locations[clubs[i]] - locations[clubs[i+1]])\n",
    "            #distance += distances[clubs[i]][clubs[i + 1]]\n",
    "        return distance"
   ]
  },
  {
   "cell_type": "code",
   "execution_count": 129,
   "metadata": {},
   "outputs": [
    {
     "name": "stdout",
     "output_type": "stream",
     "text": [
      "44.2 µs ± 118 ns per loop (mean ± std. dev. of 7 runs, 10000 loops each)\n"
     ]
    }
   ],
   "source": [
    "%timeit get_area_perimeter([0, 1, 2, 3, 4])"
   ]
  },
  {
   "cell_type": "code",
   "execution_count": 128,
   "metadata": {},
   "outputs": [
    {
     "data": {
      "text/plain": [
       "6.808618"
      ]
     },
     "execution_count": 128,
     "metadata": {},
     "output_type": "execute_result"
    }
   ],
   "source": [
    "get_area_perimeter(list(range(5)))"
   ]
  },
  {
   "cell_type": "markdown",
   "metadata": {},
   "source": [
    "Conclude that get_area_perimeter is calculating the same thing as the perimeter of the hull. Skip that and go to the compactness based on the area and perimeter."
   ]
  },
  {
   "cell_type": "code",
   "execution_count": null,
   "metadata": {
    "jupyter": {
     "source_hidden": true
    }
   },
   "outputs": [],
   "source": [
    "# Keep just in case:\n",
    "'''\n",
    "    def get_area_perimeter(self, clubs):\n",
    "        \"\"\"\n",
    "        Pseudo-calculates the length of the perimeter of an area (i.e. distance).\n",
    "        If the points aren't in a circular order, it might zig-zag across. The\n",
    "        GA will optimize the best order even though that's not important. The \n",
    "        performance loss of using geospatial modules to get the order right as \n",
    "        a proper polygon is not worth the savings in optimization. This is how\n",
    "        route lengths would otherwise be calculated.\n",
    "        :param clubs: A list of clubs that define the perimeter (route).\n",
    "        \"\"\"\n",
    "        # Distance between last and first club\n",
    "        distance = self.distances[clubs[-1]][clubs[0]]\n",
    "\n",
    "        # Add the distance between the rest\n",
    "        for i in range(len(clubs) - 1):\n",
    "            distance += self.distances[clubs[i]][clubs[i + 1]]\n",
    "\n",
    "        return distance\n",
    "'''"
   ]
  },
  {
   "cell_type": "code",
   "execution_count": 148,
   "metadata": {},
   "outputs": [
    {
     "data": {
      "text/html": [
       "<div>\n",
       "<style scoped>\n",
       "    .dataframe tbody tr th:only-of-type {\n",
       "        vertical-align: middle;\n",
       "    }\n",
       "\n",
       "    .dataframe tbody tr th {\n",
       "        vertical-align: top;\n",
       "    }\n",
       "\n",
       "    .dataframe thead th {\n",
       "        text-align: right;\n",
       "    }\n",
       "</style>\n",
       "<table border=\"1\" class=\"dataframe\">\n",
       "  <thead>\n",
       "    <tr style=\"text-align: right;\">\n",
       "      <th></th>\n",
       "      <th>District</th>\n",
       "      <th>Division</th>\n",
       "      <th>Area</th>\n",
       "      <th>Club</th>\n",
       "      <th>Clubname</th>\n",
       "      <th>Clubest</th>\n",
       "      <th>Clubstatus</th>\n",
       "      <th>DCP</th>\n",
       "      <th>Members</th>\n",
       "      <th>Clubcity</th>\n",
       "      <th>...</th>\n",
       "      <th>Clubphone</th>\n",
       "      <th>Clubday_o</th>\n",
       "      <th>Clubtime_o</th>\n",
       "      <th>Clubday</th>\n",
       "      <th>Clubtime</th>\n",
       "      <th>Clublen</th>\n",
       "      <th>Clubfreq</th>\n",
       "      <th>Clubopen</th>\n",
       "      <th>Clubadvanced</th>\n",
       "      <th>Notes:</th>\n",
       "    </tr>\n",
       "  </thead>\n",
       "  <tbody>\n",
       "    <tr>\n",
       "      <th>174</th>\n",
       "      <td>50.0</td>\n",
       "      <td>S</td>\n",
       "      <td>53.0</td>\n",
       "      <td>437.0</td>\n",
       "      <td>Literary Legends Club</td>\n",
       "      <td>5/1/2002</td>\n",
       "      <td>Active</td>\n",
       "      <td>NaN</td>\n",
       "      <td>NaN</td>\n",
       "      <td>Dallas</td>\n",
       "      <td>...</td>\n",
       "      <td>+1 214-467-6798</td>\n",
       "      <td>Saturday</td>\n",
       "      <td>9:15 AM</td>\n",
       "      <td>Sat</td>\n",
       "      <td>9:15:00</td>\n",
       "      <td>0.0</td>\n",
       "      <td>W1</td>\n",
       "      <td>O</td>\n",
       "      <td>NaN</td>\n",
       "      <td>NaN</td>\n",
       "    </tr>\n",
       "    <tr>\n",
       "      <th>81</th>\n",
       "      <td>50.0</td>\n",
       "      <td>M</td>\n",
       "      <td>31.0</td>\n",
       "      <td>713.0</td>\n",
       "      <td>Big \"D\" Toastmasters</td>\n",
       "      <td>3/1/1949</td>\n",
       "      <td>Active</td>\n",
       "      <td>NaN</td>\n",
       "      <td>NaN</td>\n",
       "      <td>Dallas</td>\n",
       "      <td>...</td>\n",
       "      <td>+1 214-660-5483</td>\n",
       "      <td>Thursday</td>\n",
       "      <td>6:30 PM</td>\n",
       "      <td>Thu</td>\n",
       "      <td>18:30:00</td>\n",
       "      <td>0.0</td>\n",
       "      <td>W1</td>\n",
       "      <td>O</td>\n",
       "      <td>NaN</td>\n",
       "      <td>NaN</td>\n",
       "    </tr>\n",
       "    <tr>\n",
       "      <th>6</th>\n",
       "      <td>50.0</td>\n",
       "      <td>E</td>\n",
       "      <td>12.0</td>\n",
       "      <td>718.0</td>\n",
       "      <td>Shreveport Club</td>\n",
       "      <td>5/1/1949</td>\n",
       "      <td>Active</td>\n",
       "      <td>NaN</td>\n",
       "      <td>NaN</td>\n",
       "      <td>Shreveport</td>\n",
       "      <td>...</td>\n",
       "      <td>+1 318-841-3129</td>\n",
       "      <td>Monday</td>\n",
       "      <td>12:00 PM</td>\n",
       "      <td>Mon</td>\n",
       "      <td>12:00:00</td>\n",
       "      <td>0.0</td>\n",
       "      <td>W1</td>\n",
       "      <td>O</td>\n",
       "      <td>NaN</td>\n",
       "      <td>NaN</td>\n",
       "    </tr>\n",
       "    <tr>\n",
       "      <th>226</th>\n",
       "      <td>50.0</td>\n",
       "      <td>T</td>\n",
       "      <td>65.0</td>\n",
       "      <td>967.0</td>\n",
       "      <td>Ericsson Village Toastmasters Club</td>\n",
       "      <td>8/31/2001</td>\n",
       "      <td>Active</td>\n",
       "      <td>NaN</td>\n",
       "      <td>NaN</td>\n",
       "      <td>Plano</td>\n",
       "      <td>...</td>\n",
       "      <td>+1 972-583-3389</td>\n",
       "      <td>Thursday</td>\n",
       "      <td>12:00 PM</td>\n",
       "      <td>Thu</td>\n",
       "      <td>12:00:00</td>\n",
       "      <td>0.0</td>\n",
       "      <td>W1</td>\n",
       "      <td>O</td>\n",
       "      <td>NaN</td>\n",
       "      <td>NaN</td>\n",
       "    </tr>\n",
       "    <tr>\n",
       "      <th>187</th>\n",
       "      <td>50.0</td>\n",
       "      <td>S</td>\n",
       "      <td>55.0</td>\n",
       "      <td>1165.0</td>\n",
       "      <td>City Talkers Toastmasters Club</td>\n",
       "      <td>4/1/1998</td>\n",
       "      <td>Ineligible</td>\n",
       "      <td>NaN</td>\n",
       "      <td>NaN</td>\n",
       "      <td>Dallas</td>\n",
       "      <td>...</td>\n",
       "      <td>+1 214-671-8875</td>\n",
       "      <td>Tues, 1st &amp; 3rd</td>\n",
       "      <td>12:00 p.m.</td>\n",
       "      <td>Tue</td>\n",
       "      <td>12:00:00</td>\n",
       "      <td>0.0</td>\n",
       "      <td>M2</td>\n",
       "      <td>O</td>\n",
       "      <td>NaN</td>\n",
       "      <td>NaN</td>\n",
       "    </tr>\n",
       "  </tbody>\n",
       "</table>\n",
       "<p>5 rows × 23 columns</p>\n",
       "</div>"
      ],
      "text/plain": [
       "     District Division  Area    Club                            Clubname  \\\n",
       "174      50.0        S  53.0   437.0               Literary Legends Club   \n",
       "81       50.0        M  31.0   713.0                Big \"D\" Toastmasters   \n",
       "6        50.0        E  12.0   718.0                     Shreveport Club   \n",
       "226      50.0        T  65.0   967.0  Ericsson Village Toastmasters Club   \n",
       "187      50.0        S  55.0  1165.0      City Talkers Toastmasters Club   \n",
       "\n",
       "       Clubest  Clubstatus  DCP  Members    Clubcity  ...        Clubphone  \\\n",
       "174   5/1/2002      Active  NaN      NaN      Dallas  ...  +1 214-467-6798   \n",
       "81    3/1/1949      Active  NaN      NaN      Dallas  ...  +1 214-660-5483   \n",
       "6     5/1/1949      Active  NaN      NaN  Shreveport  ...  +1 318-841-3129   \n",
       "226  8/31/2001      Active  NaN      NaN       Plano  ...  +1 972-583-3389   \n",
       "187   4/1/1998  Ineligible  NaN      NaN      Dallas  ...  +1 214-671-8875   \n",
       "\n",
       "           Clubday_o  Clubtime_o Clubday  Clubtime Clublen Clubfreq Clubopen  \\\n",
       "174         Saturday     9:15 AM     Sat   9:15:00     0.0       W1        O   \n",
       "81          Thursday     6:30 PM     Thu  18:30:00     0.0       W1        O   \n",
       "6             Monday    12:00 PM     Mon  12:00:00     0.0       W1        O   \n",
       "226         Thursday    12:00 PM     Thu  12:00:00     0.0       W1        O   \n",
       "187  Tues, 1st & 3rd  12:00 p.m.     Tue  12:00:00     0.0       M2        O   \n",
       "\n",
       "     Clubadvanced Notes:  \n",
       "174           NaN    NaN  \n",
       "81            NaN    NaN  \n",
       "6             NaN    NaN  \n",
       "226           NaN    NaN  \n",
       "187           NaN    NaN  \n",
       "\n",
       "[5 rows x 23 columns]"
      ]
     },
     "execution_count": 148,
     "metadata": {},
     "output_type": "execute_result"
    }
   ],
   "source": [
    "np.mean([self.compactness(area) for area in areas_list])"
   ]
  },
  {
   "cell_type": "code",
   "execution_count": null,
   "metadata": {},
   "outputs": [],
   "source": []
  }
 ],
 "metadata": {
  "kernelspec": {
   "display_name": "Python 3",
   "language": "python",
   "name": "python3"
  },
  "language_info": {
   "codemirror_mode": {
    "name": "ipython",
    "version": 3
   },
   "file_extension": ".py",
   "mimetype": "text/x-python",
   "name": "python",
   "nbconvert_exporter": "python",
   "pygments_lexer": "ipython3",
   "version": "3.7.9"
  }
 },
 "nbformat": 4,
 "nbformat_minor": 4
}
